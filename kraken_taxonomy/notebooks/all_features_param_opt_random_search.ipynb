{
 "cells": [
  {
   "attachments": {},
   "cell_type": "markdown",
   "metadata": {},
   "source": [
    "# Models comparison without features selection and wuth hyperparameters optimization"
   ]
  },
  {
   "attachments": {},
   "cell_type": "markdown",
   "metadata": {},
   "source": [
    "## Imports"
   ]
  },
  {
   "cell_type": "code",
   "execution_count": 77,
   "metadata": {},
   "outputs": [],
   "source": [
    "from sklearn.model_selection import cross_val_score, cross_validate, StratifiedKFold\n",
    "from xgboost import XGBClassifier\n",
    "import pandas as pd\n",
    "import catboost as cb\n",
    "import numpy as np\n",
    "import seaborn as sns\n",
    "from sklearn.ensemble import AdaBoostClassifier, RandomForestClassifier\n",
    "from sklearn.linear_model import Lasso, LogisticRegression\n",
    "from sklearn.svm import SVC\n",
    "import matplotlib.pyplot as plt\n",
    "from sklearn.feature_selection import SelectFromModel\n",
    "from sklearn.metrics import accuracy_score, confusion_matrix, ConfusionMatrixDisplay, classification_report, roc_auc_score\n",
    "from sklearn.model_selection import train_test_split, RandomizedSearchCV\n",
    "from scipy.stats import randint, uniform\n",
    "from tqdm.notebook import tqdm\n",
    "import pickle\n",
    "from datetime import datetime"
   ]
  },
  {
   "attachments": {},
   "cell_type": "markdown",
   "metadata": {},
   "source": [
    "## Load data"
   ]
  },
  {
   "cell_type": "code",
   "execution_count": 111,
   "metadata": {},
   "outputs": [
    {
     "name": "stdout",
     "output_type": "stream",
     "text": [
      "(212, 4630)\n"
     ]
    }
   ],
   "source": [
    "# Load genus relative abundance data as features\n",
    "# X = pd.read_csv(\"../genus_relative_abundance.csv\", sep=\";\")\n",
    "# Load species relative abundance data as features\n",
    "X = pd.read_csv(\"../species_relative_abundance.csv\", sep=\";\")\n",
    "# Load labels \n",
    "y = pd.read_csv(\"../../labels.csv\", sep=\";\")\n",
    "y = y.loc[y[\"Sample\"].isin(X[\"Sample\"])].set_index(\"Sample\", drop=True)[\"Class\"]\n",
    "X = X.set_index(\"Sample\", drop=True)\n",
    "print(X.shape)\n",
    "assert X.shape[0] == y.shape[0]"
   ]
  },
  {
   "attachments": {},
   "cell_type": "markdown",
   "metadata": {},
   "source": [
    "## Split the data"
   ]
  },
  {
   "cell_type": "code",
   "execution_count": 273,
   "metadata": {},
   "outputs": [],
   "source": [
    "X_train, X_test, y_train, y_test = train_test_split(X, y, test_size=0.2)\n",
    "train_pool = cb.Pool(data=X_train, label=y_train)\n",
    "full_pool = cb.Pool(data=X, label=y)"
   ]
  },
  {
   "attachments": {},
   "cell_type": "markdown",
   "metadata": {},
   "source": [
    "## Define K-Fold, models and param distributions"
   ]
  },
  {
   "cell_type": "code",
   "execution_count": 280,
   "metadata": {},
   "outputs": [],
   "source": [
    "# K-Fold\n",
    "skf = StratifiedKFold(n_splits=10, shuffle=True)\n",
    "# models\n",
    "models = {\n",
    "  # 'CatBoost': cb.CatBoostClassifier(thread_count=-1, verbose=False, random_state=42),\n",
    "  'XGBoost': XGBClassifier(n_jobs=-1, random_state=42),\n",
    "  'RF': RandomForestClassifier(warm_start=True, n_jobs=-1, random_state=42),\n",
    "  'AdaBoost': AdaBoostClassifier(random_state=42),\n",
    "  'LR': LogisticRegression(warm_start=True, n_jobs=-1, random_state=42),\n",
    "  'SVM': SVC(random_state=42),\n",
    "}\n",
    "# params distributions\n",
    "param_distributions = {\n",
    "  'RF': {\n",
    "    'n_estimators': randint(1, 250),\n",
    "    'criterion': ['gini', 'entropy'],\n",
    "    'max_depth': [None] + list(range(1, 20)),\n",
    "    'min_samples_split': randint(2, 20),\n",
    "    'max_features': ['sqrt', 'log2'],\n",
    "    'min_samples_leaf': randint(1, 10),\n",
    "    'bootstrap': [True, False],\n",
    "  },\n",
    "  'AdaBoost': {\n",
    "    'n_estimators': randint(1, 250),\n",
    "    'learning_rate': uniform(0.01, 1.0),\n",
    "    'estimator': [RandomForestClassifier()],\n",
    "    'algorithm': ['SAMME', 'SAMME.R'],\n",
    "    'random_state': [None, 42],\n",
    "  },\n",
    "  'XGBoost': {\n",
    "    'n_estimators': randint(1, 250),\n",
    "    'learning_rate': uniform(0.01, 1.0),\n",
    "    'max_depth': randint(1, 10),\n",
    "    'subsample': uniform(0.6, 0.4),\n",
    "    'colsample_bytree': uniform(0.6, 0.4),\n",
    "    'reg_alpha': uniform(0, 1),\n",
    "    'reg_lambda': uniform(0, 1),\n",
    "  },\n",
    "  'LR': { # Logistic regression\n",
    "    'C': uniform(0.1, 1.0),\n",
    "    'penalty': ['elasticnet', 'l1', 'l2'],\n",
    "    'class_weight': [None, 'balanced'],\n",
    "    'max_iter': [1000],\n",
    "    'solver': ['sag', 'saga', 'liblinear']\n",
    "  },\n",
    "  'SVM': {\n",
    "    'C': uniform(0.1, 1.0),\n",
    "    'kernel': ['linear', 'poly', 'rbf', 'sigmoid'],\n",
    "    'degree': randint(1, 3),\n",
    "    'gamma': ['scale', 'auto'],\n",
    "    'class_weight': [None, 'balanced'],\n",
    "    'probability': [True, False],\n",
    "  },\n",
    "  'CatBoost': {\n",
    "    'n_estimators': [100, 250, 500, 1000],\n",
    "    'learning_rate': uniform(0.001, 0.01),\n",
    "    'depth' : randint(4, 10),\n",
    "    'l2_leaf_reg' : randint(2, 10),\n",
    "    'random_strength' : uniform(0, 10),\n",
    "    'subsample': uniform(0.6, 0.4),\n",
    "    'loss_function': ['Logloss'],\n",
    "  }\n",
    "}"
   ]
  },
  {
   "attachments": {},
   "cell_type": "markdown",
   "metadata": {},
   "source": [
    "## Randomized search with cross validation"
   ]
  },
  {
   "cell_type": "code",
   "execution_count": 281,
   "metadata": {},
   "outputs": [
    {
     "data": {
      "application/vnd.jupyter.widget-view+json": {
       "model_id": "caa6acf621ec4db9b027b64750dde65c",
       "version_major": 2,
       "version_minor": 0
      },
      "text/plain": [
       "  0%|          | 0/5 [00:00<?, ?it/s]"
      ]
     },
     "metadata": {},
     "output_type": "display_data"
    },
    {
     "name": "stderr",
     "output_type": "stream",
     "text": [
      "/opt/homebrew/Caskroom/miniconda/base/envs/rp/lib/python3.8/site-packages/sklearn/linear_model/_logistic.py:1211: UserWarning: 'n_jobs' > 1 does not have any effect when 'solver' is set to 'liblinear'. Got 'n_jobs' = 8.\n",
      "  warnings.warn(\n",
      "/opt/homebrew/Caskroom/miniconda/base/envs/rp/lib/python3.8/site-packages/sklearn/linear_model/_logistic.py:1211: UserWarning: 'n_jobs' > 1 does not have any effect when 'solver' is set to 'liblinear'. Got 'n_jobs' = 8.\n",
      "  warnings.warn(\n",
      "/opt/homebrew/Caskroom/miniconda/base/envs/rp/lib/python3.8/site-packages/sklearn/linear_model/_logistic.py:1211: UserWarning: 'n_jobs' > 1 does not have any effect when 'solver' is set to 'liblinear'. Got 'n_jobs' = 8.\n",
      "  warnings.warn(\n",
      "/opt/homebrew/Caskroom/miniconda/base/envs/rp/lib/python3.8/site-packages/sklearn/linear_model/_logistic.py:1211: UserWarning: 'n_jobs' > 1 does not have any effect when 'solver' is set to 'liblinear'. Got 'n_jobs' = 8.\n",
      "  warnings.warn(\n",
      "/opt/homebrew/Caskroom/miniconda/base/envs/rp/lib/python3.8/site-packages/sklearn/linear_model/_logistic.py:1211: UserWarning: 'n_jobs' > 1 does not have any effect when 'solver' is set to 'liblinear'. Got 'n_jobs' = 8.\n",
      "  warnings.warn(\n",
      "/opt/homebrew/Caskroom/miniconda/base/envs/rp/lib/python3.8/site-packages/sklearn/linear_model/_logistic.py:1211: UserWarning: 'n_jobs' > 1 does not have any effect when 'solver' is set to 'liblinear'. Got 'n_jobs' = 8.\n",
      "  warnings.warn(\n",
      "/opt/homebrew/Caskroom/miniconda/base/envs/rp/lib/python3.8/site-packages/sklearn/linear_model/_logistic.py:1211: UserWarning: 'n_jobs' > 1 does not have any effect when 'solver' is set to 'liblinear'. Got 'n_jobs' = 8.\n",
      "  warnings.warn(\n",
      "/opt/homebrew/Caskroom/miniconda/base/envs/rp/lib/python3.8/site-packages/sklearn/linear_model/_logistic.py:1211: UserWarning: 'n_jobs' > 1 does not have any effect when 'solver' is set to 'liblinear'. Got 'n_jobs' = 8.\n",
      "  warnings.warn(\n",
      "/opt/homebrew/Caskroom/miniconda/base/envs/rp/lib/python3.8/site-packages/sklearn/linear_model/_logistic.py:1211: UserWarning: 'n_jobs' > 1 does not have any effect when 'solver' is set to 'liblinear'. Got 'n_jobs' = 8.\n",
      "  warnings.warn(\n",
      "/opt/homebrew/Caskroom/miniconda/base/envs/rp/lib/python3.8/site-packages/sklearn/linear_model/_logistic.py:1211: UserWarning: 'n_jobs' > 1 does not have any effect when 'solver' is set to 'liblinear'. Got 'n_jobs' = 8.\n",
      "  warnings.warn(\n",
      "/opt/homebrew/Caskroom/miniconda/base/envs/rp/lib/python3.8/site-packages/sklearn/linear_model/_logistic.py:1211: UserWarning: 'n_jobs' > 1 does not have any effect when 'solver' is set to 'liblinear'. Got 'n_jobs' = 8.\n",
      "  warnings.warn(\n"
     ]
    }
   ],
   "source": [
    "# define metrics\n",
    "# metrics = ['accuracy', 'f1', 'roc_auc']\n",
    "# dict for cv results\n",
    "import time\n",
    "random_search_results = {}\n",
    "\n",
    "for m_name, model in (p_bar := tqdm(models.items())):\n",
    "    p_bar.set_description(f'Running RandomizedSearchCV for {m_name}')\n",
    "    random_search = RandomizedSearchCV(\n",
    "      model,\n",
    "      param_distributions=param_distributions[m_name],\n",
    "      n_iter=2,\n",
    "      cv=skf,\n",
    "      random_state=42,\n",
    "      n_jobs=-1,\n",
    "      scoring=\"f1\",\n",
    "    )\n",
    "    random_search.fit(X_train, y_train)\n",
    "    random_search_results[m_name] = random_search"
   ]
  },
  {
   "cell_type": "code",
   "execution_count": 271,
   "metadata": {},
   "outputs": [
    {
     "data": {
      "text/plain": [
       "0.70772238514174"
      ]
     },
     "execution_count": 271,
     "metadata": {},
     "output_type": "execute_result"
    }
   ],
   "source": [
    "random_search_results['CatBoost'].best_score_"
   ]
  },
  {
   "cell_type": "code",
   "execution_count": 265,
   "metadata": {},
   "outputs": [
    {
     "data": {
      "text/plain": [
       "0.6744186046511628"
      ]
     },
     "execution_count": 265,
     "metadata": {},
     "output_type": "execute_result"
    }
   ],
   "source": [
    "accuracy_score(random_search_results['CatBoost'].best_estimator_.predict(X_test), y_test)"
   ]
  },
  {
   "cell_type": "code",
   "execution_count": 106,
   "metadata": {},
   "outputs": [],
   "source": [
    "# roc_auc_score(y_test, random_search.best_estimator_.predict(X_test))\n",
    "with open(f'randomized_search_{datetime.now().strftime(\"%d.%m.%Y_%H.%M.%S\")}.p', 'wb') as fp:\n",
    "    pickle.dump(random_search_results, fp, protocol=pickle.HIGHEST_PROTOCOL)"
   ]
  },
  {
   "cell_type": "code",
   "execution_count": 107,
   "metadata": {},
   "outputs": [
    {
     "data": {
      "text/plain": [
       "{'depth': 4,\n",
       " 'l2_leaf_reg': 8,\n",
       " 'learning_rate': 0.17152412368729153,\n",
       " 'random_strength': 0.6505159298527952}"
      ]
     },
     "execution_count": 107,
     "metadata": {},
     "output_type": "execute_result"
    }
   ],
   "source": [
    "random_search_results['CatBoost'].best_params_"
   ]
  },
  {
   "cell_type": "code",
   "execution_count": null,
   "metadata": {},
   "outputs": [],
   "source": [
    "cb_rs_results = models['CatBoost'].randomized_search(\n",
    "  param_distributions=param_distributions['CatBoost'],\n",
    "  X=train_pool,\n",
    "  cv=skf,\n",
    "  n_iter=2,\n",
    "  train_size=0.8,\n",
    "  plot=True,\n",
    "  refit=True\n",
    ")"
   ]
  },
  {
   "cell_type": "code",
   "execution_count": null,
   "metadata": {},
   "outputs": [],
   "source": [
    "feature_importance_df = pd.DataFrame({'feature_importance': models['CatBoost'].get_feature_importance(train_pool), \n",
    "              'feature_names': X.columns}).sort_values(by=['feature_importance'], \n",
    "                                                           ascending=False)\n",
    "feature_importance_df[:100]"
   ]
  },
  {
   "attachments": {},
   "cell_type": "markdown",
   "metadata": {},
   "source": [
    "## Cross validate models on metrics"
   ]
  },
  {
   "cell_type": "code",
   "execution_count": 282,
   "metadata": {},
   "outputs": [
    {
     "data": {
      "application/vnd.jupyter.widget-view+json": {
       "model_id": "9c54d1ae7adb48499ea360e98e869c7f",
       "version_major": 2,
       "version_minor": 0
      },
      "text/plain": [
       "  0%|          | 0/5 [00:00<?, ?it/s]"
      ]
     },
     "metadata": {},
     "output_type": "display_data"
    },
    {
     "name": "stdout",
     "output_type": "stream",
     "text": [
      "{'objective': 'binary:logistic', 'use_label_encoder': None, 'base_score': None, 'booster': None, 'callbacks': None, 'colsample_bylevel': None, 'colsample_bynode': None, 'colsample_bytree': 0.7836995567863468, 'early_stopping_rounds': None, 'enable_categorical': False, 'eval_metric': None, 'feature_types': None, 'gamma': None, 'gpu_id': None, 'grow_policy': None, 'importance_type': None, 'interaction_constraints': None, 'learning_rate': 0.34370861113902185, 'max_bin': None, 'max_cat_threshold': None, 'max_cat_to_onehot': None, 'max_delta_step': None, 'max_depth': 8, 'max_leaves': None, 'min_child_weight': None, 'missing': nan, 'monotone_constraints': None, 'n_estimators': 152, 'n_jobs': -1, 'num_parallel_tree': None, 'predictor': None, 'random_state': 42, 'reg_alpha': 0.6508884729488529, 'reg_lambda': 0.056411579027100256, 'sampling_method': None, 'scale_pos_weight': None, 'subsample': 0.8887995089067299, 'tree_method': None, 'validate_parameters': None, 'verbosity': None}\n",
      "{'bootstrap': True, 'ccp_alpha': 0.0, 'class_weight': None, 'criterion': 'entropy', 'max_depth': 14, 'max_features': 'sqrt', 'max_leaf_nodes': None, 'max_samples': None, 'min_impurity_decrease': 0.0, 'min_samples_leaf': 8, 'min_samples_split': 8, 'min_weight_fraction_leaf': 0.0, 'n_estimators': 122, 'n_jobs': -1, 'oob_score': False, 'random_state': 42, 'verbose': 0, 'warm_start': True}\n",
      "{'algorithm': 'SAMME', 'base_estimator': 'deprecated', 'estimator__bootstrap': True, 'estimator__ccp_alpha': 0.0, 'estimator__class_weight': None, 'estimator__criterion': 'gini', 'estimator__max_depth': None, 'estimator__max_features': 'sqrt', 'estimator__max_leaf_nodes': None, 'estimator__max_samples': None, 'estimator__min_impurity_decrease': 0.0, 'estimator__min_samples_leaf': 1, 'estimator__min_samples_split': 2, 'estimator__min_weight_fraction_leaf': 0.0, 'estimator__n_estimators': 100, 'estimator__n_jobs': None, 'estimator__oob_score': False, 'estimator__random_state': None, 'estimator__verbose': 0, 'estimator__warm_start': False, 'estimator': RandomForestClassifier(), 'learning_rate': 0.8065429868602328, 'n_estimators': 15, 'random_state': None}\n",
      "{'C': 0.47454011884736247, 'class_weight': None, 'dual': False, 'fit_intercept': True, 'intercept_scaling': 1, 'l1_ratio': None, 'max_iter': 1000, 'multi_class': 'auto', 'n_jobs': -1, 'penalty': 'l2', 'random_state': 42, 'solver': 'liblinear', 'tol': 0.0001, 'verbose': 0, 'warm_start': True}\n"
     ]
    },
    {
     "name": "stderr",
     "output_type": "stream",
     "text": [
      "/opt/homebrew/Caskroom/miniconda/base/envs/rp/lib/python3.8/site-packages/sklearn/linear_model/_logistic.py:1211: UserWarning: 'n_jobs' > 1 does not have any effect when 'solver' is set to 'liblinear'. Got 'n_jobs' = 8.\n",
      "  warnings.warn(\n",
      "/opt/homebrew/Caskroom/miniconda/base/envs/rp/lib/python3.8/site-packages/sklearn/linear_model/_logistic.py:1211: UserWarning: 'n_jobs' > 1 does not have any effect when 'solver' is set to 'liblinear'. Got 'n_jobs' = 8.\n",
      "  warnings.warn(\n",
      "/opt/homebrew/Caskroom/miniconda/base/envs/rp/lib/python3.8/site-packages/sklearn/linear_model/_logistic.py:1211: UserWarning: 'n_jobs' > 1 does not have any effect when 'solver' is set to 'liblinear'. Got 'n_jobs' = 8.\n",
      "  warnings.warn(\n",
      "/opt/homebrew/Caskroom/miniconda/base/envs/rp/lib/python3.8/site-packages/sklearn/linear_model/_logistic.py:1211: UserWarning: 'n_jobs' > 1 does not have any effect when 'solver' is set to 'liblinear'. Got 'n_jobs' = 8.\n",
      "  warnings.warn(\n",
      "/opt/homebrew/Caskroom/miniconda/base/envs/rp/lib/python3.8/site-packages/sklearn/linear_model/_logistic.py:1211: UserWarning: 'n_jobs' > 1 does not have any effect when 'solver' is set to 'liblinear'. Got 'n_jobs' = 8.\n",
      "  warnings.warn(\n",
      "/opt/homebrew/Caskroom/miniconda/base/envs/rp/lib/python3.8/site-packages/sklearn/linear_model/_logistic.py:1211: UserWarning: 'n_jobs' > 1 does not have any effect when 'solver' is set to 'liblinear'. Got 'n_jobs' = 8.\n",
      "  warnings.warn(\n",
      "/opt/homebrew/Caskroom/miniconda/base/envs/rp/lib/python3.8/site-packages/sklearn/linear_model/_logistic.py:1211: UserWarning: 'n_jobs' > 1 does not have any effect when 'solver' is set to 'liblinear'. Got 'n_jobs' = 8.\n",
      "  warnings.warn(\n",
      "/opt/homebrew/Caskroom/miniconda/base/envs/rp/lib/python3.8/site-packages/sklearn/linear_model/_logistic.py:1211: UserWarning: 'n_jobs' > 1 does not have any effect when 'solver' is set to 'liblinear'. Got 'n_jobs' = 8.\n",
      "  warnings.warn(\n",
      "/opt/homebrew/Caskroom/miniconda/base/envs/rp/lib/python3.8/site-packages/sklearn/linear_model/_logistic.py:1211: UserWarning: 'n_jobs' > 1 does not have any effect when 'solver' is set to 'liblinear'. Got 'n_jobs' = 8.\n",
      "  warnings.warn(\n",
      "/opt/homebrew/Caskroom/miniconda/base/envs/rp/lib/python3.8/site-packages/sklearn/linear_model/_logistic.py:1211: UserWarning: 'n_jobs' > 1 does not have any effect when 'solver' is set to 'liblinear'. Got 'n_jobs' = 8.\n",
      "  warnings.warn(\n"
     ]
    },
    {
     "name": "stdout",
     "output_type": "stream",
     "text": [
      "{'C': 0.696850157946487, 'break_ties': False, 'cache_size': 200, 'class_weight': 'balanced', 'coef0': 0.0, 'decision_function_shape': 'ovr', 'degree': 1, 'gamma': 'scale', 'kernel': 'rbf', 'max_iter': -1, 'probability': True, 'random_state': 42, 'shrinking': True, 'tol': 0.001, 'verbose': False}\n"
     ]
    }
   ],
   "source": [
    "# define metrics\n",
    "metrics = ['accuracy', 'f1', 'roc_auc']\n",
    "# dict for cv results \n",
    "cv_results = {}\n",
    "\n",
    "for m_name, model in (p_bar := tqdm(models.items())):\n",
    "  p_bar.set_description(f'Running metrics evaluation for {m_name}')\n",
    "  \n",
    "  # Update params with optimized\n",
    "  model.set_params(**random_search_results[m_name].best_params_)\n",
    "  print(model.get_params())\n",
    "  tmp_cv_scores = cross_validate(estimator=model, X=X, y=y, scoring=metrics, cv=skf)\n",
    "  cv_results[m_name] = tmp_cv_scores"
   ]
  },
  {
   "attachments": {},
   "cell_type": "markdown",
   "metadata": {},
   "source": [
    "## Plot the results"
   ]
  },
  {
   "cell_type": "code",
   "execution_count": 283,
   "metadata": {},
   "outputs": [
    {
     "data": {
      "image/png": "[encoded data removed]",
      "text/plain": [
       "<Figure size 500x500 with 1 Axes>"
      ]
     },
     "metadata": {},
     "output_type": "display_data"
    }
   ],
   "source": [
    "# Create an empty list to hold the data\n",
    "plot_data = []\n",
    "\n",
    "# Iterate over the dictionary\n",
    "for model, values in cv_results.items():\n",
    "    for key, arr in values.items():\n",
    "        if key.startswith(\"test_\"):\n",
    "            for value in arr:\n",
    "                plot_data.append({\"Model\": model, \"Metric\": key[5:], \"Value\": value})\n",
    "\n",
    "# Convert the list of dictionaries to a Pandas DataFrame\n",
    "df = pd.DataFrame(plot_data)\n",
    "\n",
    "# # Create the plot using Seaborn\n",
    "sns.set(style=\"whitegrid\")\n",
    "g = sns.catplot(data=df,\n",
    "                x=\"Model\",\n",
    "                y=\"Value\",\n",
    "                hue=\"Metric\",\n",
    "                kind=\"bar\",\n",
    "                estimator=np.mean,\n",
    "                errorbar='sd',\n",
    "                capsize=0.1,\n",
    "                errwidth=1,\n",
    "                legend=True,\n",
    "                sharex=False,\n",
    "                sharey=False,\n",
    "                legend_out=False,\n",
    "                palette='colorblind'\n",
    ")\n",
    "g.set(ylim=(0, 1.0))\n",
    "# Add labels and title to the plot\n",
    "plt.xlabel(\"Model\")\n",
    "plt.ylabel(\"Value\")\n",
    "plt.title(\"Models evaluation on full set of features with 10 cross fold validation\")\n",
    "\n",
    "# Rotate x-axis labels if needed\n",
    "# plt.xticks(rotation=45)\n",
    "\n",
    "# Show the plot\n",
    "plt.show()"
   ]
  }
 ],
 "metadata": {
  "kernelspec": {
   "display_name": "rp",
   "language": "python",
   "name": "python3"
  },
  "language_info": {
   "codemirror_mode": {
    "name": "ipython",
    "version": 3
   },
   "file_extension": ".py",
   "mimetype": "text/x-python",
   "name": "python",
   "nbconvert_exporter": "python",
   "pygments_lexer": "ipython3",
   "version": "3.8.16"
  },
  "orig_nbformat": 4
 },
 "nbformat": 4,
 "nbformat_minor": 2
}
