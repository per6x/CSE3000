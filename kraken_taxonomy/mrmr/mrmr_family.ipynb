{
 "cells": [
  {
   "cell_type": "code",
   "execution_count": 129,
   "metadata": {},
   "outputs": [],
   "source": [
    "import os\n",
    "import numpy as np\n",
    "import pandas as pd\n",
    "import matplotlib.pyplot as plt\n",
    "from mrmr import mrmr_classif\n",
    "from sklearn.ensemble import RandomForestClassifier\n",
    "from sklearn.model_selection import RandomizedSearchCV\n",
    "from sklearn.pipeline import Pipeline\n",
    "# from imblearn.pipeline import Pipeline\n",
    "from sklearn.decomposition import PCA\n",
    "from sklearn.preprocessing import FunctionTransformer, MinMaxScaler\n",
    "from sklearn.feature_selection import VarianceThreshold\n",
    "from sklearn.model_selection import GridSearchCV\n",
    "from scipy.stats import uniform\n",
    "from sklearn.model_selection import train_test_split\n",
    "from scipy.stats import randint, uniform\n",
    "from sklearn.linear_model import LogisticRegression\n",
    "from sklearn.metrics import accuracy_score, confusion_matrix, ConfusionMatrixDisplay, classification_report, roc_auc_score\n",
    "from imblearn.over_sampling import SMOTE\n",
    "import catboost as cb"
   ]
  },
  {
   "attachments": {},
   "cell_type": "markdown",
   "metadata": {},
   "source": [
    "# Pre-processing"
   ]
  },
  {
   "attachments": {},
   "cell_type": "markdown",
   "metadata": {},
   "source": [
    "## Load data"
   ]
  },
  {
   "cell_type": "code",
   "execution_count": 131,
   "metadata": {},
   "outputs": [
    {
     "data": {
      "text/plain": [
       "(122, 500)"
      ]
     },
     "execution_count": 131,
     "metadata": {},
     "output_type": "execute_result"
    }
   ],
   "source": [
    "negative_serology = [\"SRR22402286\",\"SRR22402358\",\"SRR22402336\",\"SRR22402315\",\"SRR22402330\",\"SRR22402374\",\"SRR22402370\",\"SRR22402355\",\"SRR22402353\",\"SRR22402352\",\"SRR22402351\",\"SRR22402350\",\"SRR22402349\",\"SRR22402384\",\"SRR22402297\",\"SRR22402275\",\"SRR22402318\",\"SRR22402347\",\"SRR22402383\",\"SRR22402317\",\"SRR22402304\",\"SRR22402371\",\"SRR22402264\",\"SRR22402365\",\"SRR22402369\",\"SRR22402368\",\"SRR22402367\",\"SRR22402366\",\"SRR22402364\",\"SRR22402292\",\"SRR22402299\",\"SRR22402291\",\"SRR22402305\",\"SRR22402277\",\"SRR22402270\",\"SRR22402265\",\"SRR22402259\",\"SRR22402258\",\"SRR22402327\",\"SRR22402319\",\"SRR22402310\",\"SRR22402306\",\"SRR22402303\",\"SRR22402328\",\"SRR22402332\",\"SRR22402331\",\"SRR22402266\",\"SRR22402307\",\"SRR22402333\",\"SRR22402329\"]\n",
    "X = pd.read_csv(\"../features_family.csv\", sep=\";\")\n",
    "# filter out samples with negative TG serology\n",
    "X = X.loc[~X[\"Sample\"].isin(negative_serology)]\n",
    "y = pd.read_csv(\"../../labels.csv\", sep=\";\")\n",
    "y = y.loc[y[\"Sample\"].isin(X[\"Sample\"])].set_index(\"Sample\", drop=True)[\"Label\"]\n",
    "X = X.set_index(\"Sample\", drop=True)\n",
    "X.shape"
   ]
  },
  {
   "cell_type": "code",
   "execution_count": 134,
   "metadata": {},
   "outputs": [
    {
     "data": {
      "text/plain": [
       "[Text(0, 0, 'Healthy'), Text(1, 0, 'CD')]"
      ]
     },
     "execution_count": 134,
     "metadata": {},
     "output_type": "execute_result"
    },
    {
     "data": {
      "image/png": "[encoded data removed]",
      "text/plain": [
       "<Figure size 432x288 with 1 Axes>"
      ]
     },
     "metadata": {
      "needs_background": "light"
     },
     "output_type": "display_data"
    }
   ],
   "source": [
    "ax = y.value_counts().plot(\n",
    "  kind='bar',\n",
    "  color=[\"green\",\"red\"],\n",
    "  title=\"Classes distribution\",\n",
    "  ylabel=\"Number of classes\",\n",
    "  xlabel=\"Class (label)\",\n",
    "  rot=0\n",
    ")\n",
    "ax.set_xticklabels([\"Healthy\", \"CD\"])"
   ]
  },
  {
   "attachments": {},
   "cell_type": "markdown",
   "metadata": {},
   "source": [
    "## Remove features with less than n% unique values"
   ]
  },
  {
   "cell_type": "code",
   "execution_count": 136,
   "metadata": {},
   "outputs": [
    {
     "data": {
      "text/plain": [
       "(122, 472)"
      ]
     },
     "execution_count": 136,
     "metadata": {},
     "output_type": "execute_result"
    }
   ],
   "source": [
    "# Calculate the percentage of unique values for each feature\n",
    "unique_percentages = (X.nunique() / X.shape[0]) * 100\n",
    "\n",
    "# Identify features with more than 90% same values\n",
    "features_to_drop = unique_percentages[unique_percentages < 49].index\n",
    "\n",
    "# Remove the identified features from the DataFrame\n",
    "filtered_X = X.drop(features_to_drop, axis=1)\n",
    "filtered_X.shape"
   ]
  },
  {
   "attachments": {},
   "cell_type": "markdown",
   "metadata": {},
   "source": [
    "## MRMR to select k features "
   ]
  },
  {
   "cell_type": "code",
   "execution_count": 137,
   "metadata": {},
   "outputs": [
    {
     "ename": "TerminatedWorkerError",
     "evalue": "A worker process managed by the executor was unexpectedly terminated. This could be caused by a segmentation fault while calling the function or by an excessive memory usage causing the Operating System to kill the worker.\n\nThe exit codes of the workers are {SIGKILL(-9), SIGKILL(-9), SIGKILL(-9), SIGKILL(-9), SIGKILL(-9), SIGKILL(-9), SIGKILL(-9), SIGKILL(-9)}",
     "output_type": "error",
     "traceback": [
      "\u001b[0;31m---------------------------------------------------------------------------\u001b[0m",
      "\u001b[0;31mTerminatedWorkerError\u001b[0m                     Traceback (most recent call last)",
      "Cell \u001b[0;32mIn[137], line 1\u001b[0m\n\u001b[0;32m----> 1\u001b[0m selected_features \u001b[39m=\u001b[39m mrmr_classif(X\u001b[39m=\u001b[39mfiltered_X, y\u001b[39m=\u001b[39my, K\u001b[39m=\u001b[39m\u001b[39m30\u001b[39m)\n\u001b[1;32m      2\u001b[0m X[selected_features]\n",
      "File \u001b[0;32m/opt/homebrew/Caskroom/miniconda/base/envs/rp/lib/python3.11/site-packages/mrmr/pandas.py:171\u001b[0m, in \u001b[0;36mmrmr_classif\u001b[0;34m(X, y, K, relevance, redundancy, denominator, cat_features, cat_encoding, only_same_domain, return_scores, n_jobs, show_progress)\u001b[0m\n\u001b[1;32m    168\u001b[0m relevance_args \u001b[39m=\u001b[39m {\u001b[39m'\u001b[39m\u001b[39mX\u001b[39m\u001b[39m'\u001b[39m: X, \u001b[39m'\u001b[39m\u001b[39my\u001b[39m\u001b[39m'\u001b[39m: y}\n\u001b[1;32m    169\u001b[0m redundancy_args \u001b[39m=\u001b[39m {\u001b[39m'\u001b[39m\u001b[39mX\u001b[39m\u001b[39m'\u001b[39m: X}\n\u001b[0;32m--> 171\u001b[0m \u001b[39mreturn\u001b[39;00m mrmr_base(K\u001b[39m=\u001b[39mK, relevance_func\u001b[39m=\u001b[39mrelevance_func, redundancy_func\u001b[39m=\u001b[39mredundancy_func,\n\u001b[1;32m    172\u001b[0m                  relevance_args\u001b[39m=\u001b[39mrelevance_args, redundancy_args\u001b[39m=\u001b[39mredundancy_args,\n\u001b[1;32m    173\u001b[0m                  denominator_func\u001b[39m=\u001b[39mdenominator_func, only_same_domain\u001b[39m=\u001b[39monly_same_domain,\n\u001b[1;32m    174\u001b[0m                  return_scores\u001b[39m=\u001b[39mreturn_scores, show_progress\u001b[39m=\u001b[39mshow_progress)\n",
      "File \u001b[0;32m/opt/homebrew/Caskroom/miniconda/base/envs/rp/lib/python3.11/site-packages/mrmr/main.py:98\u001b[0m, in \u001b[0;36mmrmr_base\u001b[0;34m(K, relevance_func, redundancy_func, relevance_args, redundancy_args, denominator_func, only_same_domain, return_scores, show_progress)\u001b[0m\n\u001b[1;32m     44\u001b[0m \u001b[39mdef\u001b[39;00m \u001b[39mmrmr_base\u001b[39m(K, relevance_func, redundancy_func,\n\u001b[1;32m     45\u001b[0m               relevance_args\u001b[39m=\u001b[39m{}, redundancy_args\u001b[39m=\u001b[39m{},\n\u001b[1;32m     46\u001b[0m               denominator_func\u001b[39m=\u001b[39mnp\u001b[39m.\u001b[39mmean, only_same_domain\u001b[39m=\u001b[39m\u001b[39mFalse\u001b[39;00m,\n\u001b[1;32m     47\u001b[0m               return_scores\u001b[39m=\u001b[39m\u001b[39mFalse\u001b[39;00m, show_progress\u001b[39m=\u001b[39m\u001b[39mTrue\u001b[39;00m):\n\u001b[1;32m     48\u001b[0m     \u001b[39m\"\"\"General function for mRMR algorithm.\u001b[39;00m\n\u001b[1;32m     49\u001b[0m \n\u001b[1;32m     50\u001b[0m \u001b[39m    Parameters\u001b[39;00m\n\u001b[0;32m   (...)\u001b[0m\n\u001b[1;32m     95\u001b[0m \u001b[39m        List of selected features.\u001b[39;00m\n\u001b[1;32m     96\u001b[0m \u001b[39m    \"\"\"\u001b[39;00m\n\u001b[0;32m---> 98\u001b[0m     relevance \u001b[39m=\u001b[39m relevance_func(\u001b[39m*\u001b[39m\u001b[39m*\u001b[39mrelevance_args)\n\u001b[1;32m     99\u001b[0m     features \u001b[39m=\u001b[39m relevance[relevance\u001b[39m.\u001b[39mfillna(\u001b[39m0\u001b[39m) \u001b[39m>\u001b[39m \u001b[39m0\u001b[39m]\u001b[39m.\u001b[39mindex\u001b[39m.\u001b[39mto_list()\n\u001b[1;32m    100\u001b[0m     relevance \u001b[39m=\u001b[39m relevance\u001b[39m.\u001b[39mloc[features]\n",
      "File \u001b[0;32m/opt/homebrew/Caskroom/miniconda/base/envs/rp/lib/python3.11/site-packages/mrmr/pandas.py:45\u001b[0m, in \u001b[0;36mf_classif\u001b[0;34m(X, y, n_jobs)\u001b[0m\n\u001b[1;32m     44\u001b[0m \u001b[39mdef\u001b[39;00m \u001b[39mf_classif\u001b[39m(X, y, n_jobs):\n\u001b[0;32m---> 45\u001b[0m     \u001b[39mreturn\u001b[39;00m parallel_df(_f_classif, X, y, n_jobs\u001b[39m=\u001b[39mn_jobs)\n",
      "File \u001b[0;32m/opt/homebrew/Caskroom/miniconda/base/envs/rp/lib/python3.11/site-packages/mrmr/pandas.py:17\u001b[0m, in \u001b[0;36mparallel_df\u001b[0;34m(func, df, series, n_jobs)\u001b[0m\n\u001b[1;32m     15\u001b[0m n_jobs \u001b[39m=\u001b[39m \u001b[39mmin\u001b[39m(cpu_count(), \u001b[39mlen\u001b[39m(df\u001b[39m.\u001b[39mcolumns)) \u001b[39mif\u001b[39;00m n_jobs \u001b[39m==\u001b[39m \u001b[39m-\u001b[39m\u001b[39m1\u001b[39m \u001b[39melse\u001b[39;00m \u001b[39mmin\u001b[39m(cpu_count(), n_jobs)\n\u001b[1;32m     16\u001b[0m col_chunks \u001b[39m=\u001b[39m np\u001b[39m.\u001b[39marray_split(\u001b[39mrange\u001b[39m(\u001b[39mlen\u001b[39m(df\u001b[39m.\u001b[39mcolumns)), n_jobs)\n\u001b[0;32m---> 17\u001b[0m lst \u001b[39m=\u001b[39m Parallel(n_jobs\u001b[39m=\u001b[39mn_jobs)(\n\u001b[1;32m     18\u001b[0m     delayed(func)(df\u001b[39m.\u001b[39miloc[:, col_chunk], series)\n\u001b[1;32m     19\u001b[0m     \u001b[39mfor\u001b[39;00m col_chunk \u001b[39min\u001b[39;00m col_chunks\n\u001b[1;32m     20\u001b[0m )\n\u001b[1;32m     21\u001b[0m \u001b[39mreturn\u001b[39;00m pd\u001b[39m.\u001b[39mconcat(lst)\n",
      "File \u001b[0;32m/opt/homebrew/Caskroom/miniconda/base/envs/rp/lib/python3.11/site-packages/joblib/parallel.py:1098\u001b[0m, in \u001b[0;36mParallel.__call__\u001b[0;34m(self, iterable)\u001b[0m\n\u001b[1;32m   1095\u001b[0m     \u001b[39mself\u001b[39m\u001b[39m.\u001b[39m_iterating \u001b[39m=\u001b[39m \u001b[39mFalse\u001b[39;00m\n\u001b[1;32m   1097\u001b[0m \u001b[39mwith\u001b[39;00m \u001b[39mself\u001b[39m\u001b[39m.\u001b[39m_backend\u001b[39m.\u001b[39mretrieval_context():\n\u001b[0;32m-> 1098\u001b[0m     \u001b[39mself\u001b[39m\u001b[39m.\u001b[39mretrieve()\n\u001b[1;32m   1099\u001b[0m \u001b[39m# Make sure that we get a last message telling us we are done\u001b[39;00m\n\u001b[1;32m   1100\u001b[0m elapsed_time \u001b[39m=\u001b[39m time\u001b[39m.\u001b[39mtime() \u001b[39m-\u001b[39m \u001b[39mself\u001b[39m\u001b[39m.\u001b[39m_start_time\n",
      "File \u001b[0;32m/opt/homebrew/Caskroom/miniconda/base/envs/rp/lib/python3.11/site-packages/joblib/parallel.py:975\u001b[0m, in \u001b[0;36mParallel.retrieve\u001b[0;34m(self)\u001b[0m\n\u001b[1;32m    973\u001b[0m \u001b[39mtry\u001b[39;00m:\n\u001b[1;32m    974\u001b[0m     \u001b[39mif\u001b[39;00m \u001b[39mgetattr\u001b[39m(\u001b[39mself\u001b[39m\u001b[39m.\u001b[39m_backend, \u001b[39m'\u001b[39m\u001b[39msupports_timeout\u001b[39m\u001b[39m'\u001b[39m, \u001b[39mFalse\u001b[39;00m):\n\u001b[0;32m--> 975\u001b[0m         \u001b[39mself\u001b[39m\u001b[39m.\u001b[39m_output\u001b[39m.\u001b[39mextend(job\u001b[39m.\u001b[39mget(timeout\u001b[39m=\u001b[39m\u001b[39mself\u001b[39m\u001b[39m.\u001b[39mtimeout))\n\u001b[1;32m    976\u001b[0m     \u001b[39melse\u001b[39;00m:\n\u001b[1;32m    977\u001b[0m         \u001b[39mself\u001b[39m\u001b[39m.\u001b[39m_output\u001b[39m.\u001b[39mextend(job\u001b[39m.\u001b[39mget())\n",
      "File \u001b[0;32m/opt/homebrew/Caskroom/miniconda/base/envs/rp/lib/python3.11/site-packages/joblib/_parallel_backends.py:567\u001b[0m, in \u001b[0;36mLokyBackend.wrap_future_result\u001b[0;34m(future, timeout)\u001b[0m\n\u001b[1;32m    564\u001b[0m \u001b[39m\"\"\"Wrapper for Future.result to implement the same behaviour as\u001b[39;00m\n\u001b[1;32m    565\u001b[0m \u001b[39mAsyncResults.get from multiprocessing.\"\"\"\u001b[39;00m\n\u001b[1;32m    566\u001b[0m \u001b[39mtry\u001b[39;00m:\n\u001b[0;32m--> 567\u001b[0m     \u001b[39mreturn\u001b[39;00m future\u001b[39m.\u001b[39mresult(timeout\u001b[39m=\u001b[39mtimeout)\n\u001b[1;32m    568\u001b[0m \u001b[39mexcept\u001b[39;00m CfTimeoutError \u001b[39mas\u001b[39;00m e:\n\u001b[1;32m    569\u001b[0m     \u001b[39mraise\u001b[39;00m \u001b[39mTimeoutError\u001b[39;00m \u001b[39mfrom\u001b[39;00m \u001b[39me\u001b[39;00m\n",
      "File \u001b[0;32m/opt/homebrew/Caskroom/miniconda/base/envs/rp/lib/python3.11/concurrent/futures/_base.py:456\u001b[0m, in \u001b[0;36mFuture.result\u001b[0;34m(self, timeout)\u001b[0m\n\u001b[1;32m    454\u001b[0m     \u001b[39mraise\u001b[39;00m CancelledError()\n\u001b[1;32m    455\u001b[0m \u001b[39melif\u001b[39;00m \u001b[39mself\u001b[39m\u001b[39m.\u001b[39m_state \u001b[39m==\u001b[39m FINISHED:\n\u001b[0;32m--> 456\u001b[0m     \u001b[39mreturn\u001b[39;00m \u001b[39mself\u001b[39m\u001b[39m.\u001b[39m__get_result()\n\u001b[1;32m    457\u001b[0m \u001b[39melse\u001b[39;00m:\n\u001b[1;32m    458\u001b[0m     \u001b[39mraise\u001b[39;00m \u001b[39mTimeoutError\u001b[39;00m()\n",
      "File \u001b[0;32m/opt/homebrew/Caskroom/miniconda/base/envs/rp/lib/python3.11/concurrent/futures/_base.py:401\u001b[0m, in \u001b[0;36mFuture.__get_result\u001b[0;34m(self)\u001b[0m\n\u001b[1;32m    399\u001b[0m \u001b[39mif\u001b[39;00m \u001b[39mself\u001b[39m\u001b[39m.\u001b[39m_exception:\n\u001b[1;32m    400\u001b[0m     \u001b[39mtry\u001b[39;00m:\n\u001b[0;32m--> 401\u001b[0m         \u001b[39mraise\u001b[39;00m \u001b[39mself\u001b[39m\u001b[39m.\u001b[39m_exception\n\u001b[1;32m    402\u001b[0m     \u001b[39mfinally\u001b[39;00m:\n\u001b[1;32m    403\u001b[0m         \u001b[39m# Break a reference cycle with the exception in self._exception\u001b[39;00m\n\u001b[1;32m    404\u001b[0m         \u001b[39mself\u001b[39m \u001b[39m=\u001b[39m \u001b[39mNone\u001b[39;00m\n",
      "\u001b[0;31mTerminatedWorkerError\u001b[0m: A worker process managed by the executor was unexpectedly terminated. This could be caused by a segmentation fault while calling the function or by an excessive memory usage causing the Operating System to kill the worker.\n\nThe exit codes of the workers are {SIGKILL(-9), SIGKILL(-9), SIGKILL(-9), SIGKILL(-9), SIGKILL(-9), SIGKILL(-9), SIGKILL(-9), SIGKILL(-9)}"
     ]
    }
   ],
   "source": [
    "selected_features = mrmr_classif(X=filtered_X, y=y, K=30)\n",
    "X[selected_features]"
   ]
  },
  {
   "cell_type": "code",
   "execution_count": 122,
   "metadata": {},
   "outputs": [
    {
     "data": {
      "text/plain": [
       "Sneathiellaceae                   -0.380303\n",
       "Candidatus Nanosynbacteraceae      0.258630\n",
       "Chroococcidiopsidaceae            -0.320639\n",
       "Pasteurellaceae                    0.247155\n",
       "Roseiflexaceae                    -0.370030\n",
       "Kiloniellaceae                    -0.357059\n",
       "Tropherymataceae                  -0.302482\n",
       "Sphingosinicellaceae              -0.380127\n",
       "Rhodospirillaceae                 -0.375080\n",
       "Thiotrichaceae                    -0.362515\n",
       "Rikenellaceae                     -0.307836\n",
       "Idiomarinaceae                    -0.348065\n",
       "Maricaulaceae                     -0.360634\n",
       "Phreatobacteraceae                -0.357524\n",
       "Thalassospiraceae                 -0.347218\n",
       "Erythrobacteraceae                -0.366951\n",
       "Nitrospiraceae                    -0.354884\n",
       "Endozoicomonadaceae               -0.351064\n",
       "Sulfuricellaceae                  -0.351536\n",
       "Cyclonatronaceae                  -0.325235\n",
       "Catenulisporaceae                 -0.333583\n",
       "Roseobacteraceae                  -0.355998\n",
       "Colwelliaceae                     -0.347923\n",
       "Acetobacteraceae                  -0.354612\n",
       "Candidatus Paracaedibacteraceae   -0.247599\n",
       "Label                              1.000000\n",
       "Name: Label, dtype: float64"
      ]
     },
     "execution_count": 122,
     "metadata": {},
     "output_type": "execute_result"
    }
   ],
   "source": [
    "corr_df = X[selected_features].join(y)\n",
    "corr_m = corr_df.corr()[\"Label\"]\n",
    "corr_m[abs(corr_m) > 0.2]"
   ]
  },
  {
   "attachments": {},
   "cell_type": "markdown",
   "metadata": {},
   "source": [
    "## Split the data"
   ]
  },
  {
   "cell_type": "code",
   "execution_count": 123,
   "metadata": {},
   "outputs": [
    {
     "data": {
      "text/plain": [
       "Label\n",
       "1    69\n",
       "0    69\n",
       "Name: count, dtype: int64"
      ]
     },
     "execution_count": 123,
     "metadata": {},
     "output_type": "execute_result"
    }
   ],
   "source": [
    "# Create an instance of the SMOTE algorithm\n",
    "smote = SMOTE(random_state=42)\n",
    "X_train, X_test, y_train, y_test = train_test_split(X[selected_features], y, test_size=0.2, random_state=42)\n",
    "# Apply SMOTE to the training data\n",
    "X_train_resampled, y_train_resampled = smote.fit_resample(X_train, y_train)\n",
    "y_train_resampled.value_counts()"
   ]
  },
  {
   "attachments": {},
   "cell_type": "markdown",
   "metadata": {},
   "source": [
    "# Models"
   ]
  },
  {
   "attachments": {},
   "cell_type": "markdown",
   "metadata": {},
   "source": [
    "## Logistic regression"
   ]
  },
  {
   "cell_type": "code",
   "execution_count": 124,
   "metadata": {},
   "outputs": [
    {
     "name": "stdout",
     "output_type": "stream",
     "text": [
      "Classification report:               precision    recall  f1-score   support\n",
      "\n",
      "           0       0.81      0.76      0.79        17\n",
      "           1       0.56      0.62      0.59         8\n",
      "\n",
      "    accuracy                           0.72        25\n",
      "   macro avg       0.68      0.69      0.69        25\n",
      "weighted avg       0.73      0.72      0.72        25\n",
      "\n",
      "Area under the curve 0.6948529411764706\n"
     ]
    },
    {
     "data": {
      "image/png": "[encoded data removed]",
      "text/plain": [
       "<Figure size 432x288 with 2 Axes>"
      ]
     },
     "metadata": {
      "needs_background": "light"
     },
     "output_type": "display_data"
    },
    {
     "data": {
      "text/plain": [
       "{'logreg__C': 0.6}"
      ]
     },
     "execution_count": 124,
     "metadata": {},
     "output_type": "execute_result"
    }
   ],
   "source": [
    "pipeline = Pipeline([\n",
    "    ('log_transform', FunctionTransformer(np.log1p)),\n",
    "    ('min_max_scale', MinMaxScaler()),\n",
    "    ('logreg', LogisticRegression(random_state=42))\n",
    "])\n",
    "# define the hyperparameters to search over\n",
    "param_grid = {\n",
    "    'logreg__C': [0.1,0.2,0.3,0.4,0.5,0.6,0.7,0.8,0.9,1]\n",
    "}\n",
    "\n",
    "# perform grid search to find the best hyperparameters\n",
    "grid_search = GridSearchCV(pipeline, param_grid=param_grid, cv=5, n_jobs=-1)\n",
    "# Fit the GridSearchCV object on the training data\n",
    "grid_search.fit(X_train_resampled, y_train_resampled)\n",
    "# Get the best estimator and make predictions on the testing data\n",
    "best_estimator = grid_search.best_estimator_\n",
    "y_pred = best_estimator.predict(X_test)\n",
    "\n",
    "# Compute accuracy for the best found RF\n",
    "report = classification_report(y_test, y_pred)\n",
    "params = grid_search.best_params_\n",
    "# print(\"Accuracy:\", accuracy)\n",
    "print(\"Classification report:\", report)\n",
    "print(\"Area under the curve\", roc_auc_score(y_test, y_pred))\n",
    "\n",
    "cm = confusion_matrix(y_test, y_pred, labels=best_estimator.classes_)\n",
    "disp = ConfusionMatrixDisplay(confusion_matrix=cm,\n",
    "                              display_labels=best_estimator.classes_)\n",
    "disp.plot()\n",
    "plt.show()\n",
    "grid_search.best_params_"
   ]
  },
  {
   "attachments": {},
   "cell_type": "markdown",
   "metadata": {},
   "source": [
    "## Random forest"
   ]
  },
  {
   "cell_type": "code",
   "execution_count": 125,
   "metadata": {},
   "outputs": [
    {
     "name": "stdout",
     "output_type": "stream",
     "text": [
      "Accuracy: 0.84\n",
      "Best score: 0.8552910052910052\n",
      "              precision    recall  f1-score   support\n",
      "\n",
      "           0       0.88      0.88      0.88        17\n",
      "           1       0.75      0.75      0.75         8\n",
      "\n",
      "    accuracy                           0.84        25\n",
      "   macro avg       0.82      0.82      0.82        25\n",
      "weighted avg       0.84      0.84      0.84        25\n",
      "\n",
      "Area under the curve 0.8161764705882352\n"
     ]
    },
    {
     "data": {
      "image/png": "[encoded data removed]",
      "text/plain": [
       "<Figure size 432x288 with 2 Axes>"
      ]
     },
     "metadata": {
      "needs_background": "light"
     },
     "output_type": "display_data"
    },
    {
     "data": {
      "text/plain": [
       "{'rf__criterion': 'entropy',\n",
       " 'rf__max_depth': 7,\n",
       " 'rf__max_features': 'log2',\n",
       " 'rf__n_estimators': 5}"
      ]
     },
     "execution_count": 125,
     "metadata": {},
     "output_type": "execute_result"
    }
   ],
   "source": [
    "# Define the Pipeline\n",
    "rf_pipeline = Pipeline([\n",
    "    ('variance_filter', VarianceThreshold(0.0)), # Step 0: filter out variables with variance < threshold\n",
    "    ('log_transform', FunctionTransformer(np.log1p)),  # Step 1: log transformation\n",
    "    ('min_max_scaler', MinMaxScaler()),  # Step 2: min-max scaling\n",
    "    ('rf', RandomForestClassifier(random_state=42, warm_start=True))  # Step 4: Random Forest\n",
    "])\n",
    "rf_param_grid = {\n",
    "    # 'variance_filter__threshold': [0.1], # grid search value for variance filter threshold\n",
    "    'rf__n_estimators': [1,2,3,4,5],  # Step 4: grid search for n_estimators\n",
    "    'rf__max_depth': [1,2,3,4,5,6,7,8,9,10,None],  # Step 4: grid search for max_depth\n",
    "    'rf__criterion' :['gini', 'entropy', 'log_loss'], # Step 4: grid search for criterion\n",
    "    'rf__max_features': ['sqrt', 'log2'], # Step 4: grid search for number of max_features\n",
    "}\n",
    "\n",
    "# Define the GridSearchCV object\n",
    "rf_grid_search = GridSearchCV(rf_pipeline, param_grid=rf_param_grid, cv=5, n_jobs=-1)\n",
    "\n",
    "# Fit the GridSearchCV object on the training data\n",
    "rf_grid_search.fit(X_train_resampled, y_train_resampled)\n",
    "\n",
    "# Get the best estimator and make predictions on the testing data\n",
    "best_estimator = rf_grid_search.best_estimator_\n",
    "y_pred = best_estimator.predict(X_test)\n",
    "\n",
    "# Compute accuracy for the best found RF\n",
    "accuracy = accuracy_score(y_test, y_pred)\n",
    "print(\"Accuracy:\", accuracy)\n",
    "print(\"Best score:\", rf_grid_search.best_score_)\n",
    "# Compute accuracy for the best found RF\n",
    "report = classification_report(y_test, y_pred)\n",
    "params = rf_grid_search.best_params_\n",
    "# print(\"Accuracy:\", accuracy)\n",
    "print(report)\n",
    "print(\"Area under the curve\", roc_auc_score(y_test, y_pred))\n",
    "\n",
    "\n",
    "cm = confusion_matrix(y_test, y_pred, labels=best_estimator.classes_)\n",
    "disp = ConfusionMatrixDisplay(confusion_matrix=cm,\n",
    "                              display_labels=best_estimator.classes_)\n",
    "disp.plot()\n",
    "plt.show()\n",
    "rf_grid_search.best_params_"
   ]
  },
  {
   "cell_type": "code",
   "execution_count": 128,
   "metadata": {},
   "outputs": [
    {
     "name": "stdout",
     "output_type": "stream",
     "text": [
      "[0.08745752 0.04289418 0.         0.         0.01228095 0.05204675\n",
      " 0.03280765 0.00894885 0.03962939 0.         0.         0.06258077\n",
      " 0.         0.05360188 0.02716245 0.16884139 0.04644381 0.16610442\n",
      " 0.0040023  0.01705267 0.03213122 0.0054267  0.0168983  0.01523757\n",
      " 0.02327907 0.03584044 0.03685803 0.         0.         0.0124737 ]\n"
     ]
    },
    {
     "data": {
      "text/plain": [
       "array(['Phreatobacteraceae', 'Thalassospiraceae'], dtype=object)"
      ]
     },
     "execution_count": 128,
     "metadata": {},
     "output_type": "execute_result"
    }
   ],
   "source": [
    "f_imp = rf_grid_search.best_estimator_['rf'].feature_importances_\n",
    "print(f_imp)\n",
    "rf_grid_search.best_estimator_.feature_names_in_[f_imp > 0.1]"
   ]
  }
 ],
 "metadata": {
  "kernelspec": {
   "display_name": "rp",
   "language": "python",
   "name": "python3"
  },
  "language_info": {
   "codemirror_mode": {
    "name": "ipython",
    "version": 3
   },
   "file_extension": ".py",
   "mimetype": "text/x-python",
   "name": "python",
   "nbconvert_exporter": "python",
   "pygments_lexer": "ipython3",
   "version": "3.8.16"
  },
  "orig_nbformat": 4
 },
 "nbformat": 4,
 "nbformat_minor": 2
}
