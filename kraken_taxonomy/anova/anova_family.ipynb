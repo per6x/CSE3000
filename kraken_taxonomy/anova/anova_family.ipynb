{
 "cells": [
  {
   "cell_type": "code",
   "execution_count": 45,
   "metadata": {},
   "outputs": [],
   "source": [
    "import os\n",
    "import numpy as np\n",
    "import pandas as pd\n",
    "import matplotlib.pyplot as plt\n",
    "from mrmr import mrmr_classif\n",
    "from sklearn.ensemble import RandomForestClassifier\n",
    "from sklearn.model_selection import RandomizedSearchCV\n",
    "from sklearn.pipeline import Pipeline\n",
    "from sklearn.decomposition import PCA\n",
    "from sklearn.preprocessing import FunctionTransformer, MinMaxScaler\n",
    "from sklearn.feature_selection import VarianceThreshold\n",
    "from sklearn.model_selection import GridSearchCV\n",
    "from scipy.stats import uniform\n",
    "from sklearn.model_selection import train_test_split\n",
    "from scipy.stats import randint, uniform\n",
    "from sklearn.linear_model import LogisticRegression\n",
    "from sklearn.metrics import accuracy_score, confusion_matrix, ConfusionMatrixDisplay\n",
    "from sklearn.metrics import classification_report, mean_squared_error, r2_score\n",
    "from sklearn.feature_selection import SelectKBest, f_classif\n",
    "from sklearn.linear_model import Lasso"
   ]
  },
  {
   "attachments": {},
   "cell_type": "markdown",
   "metadata": {},
   "source": [
    "# Pre-processing"
   ]
  },
  {
   "attachments": {},
   "cell_type": "markdown",
   "metadata": {},
   "source": [
    "## Load data"
   ]
  },
  {
   "cell_type": "code",
   "execution_count": 62,
   "metadata": {},
   "outputs": [
    {
     "data": {
      "text/plain": [
       "(122, 500)"
      ]
     },
     "execution_count": 62,
     "metadata": {},
     "output_type": "execute_result"
    }
   ],
   "source": [
    "negative_serology = [\"SRR22402286\",\"SRR22402358\",\"SRR22402336\",\"SRR22402315\",\"SRR22402330\",\"SRR22402374\",\"SRR22402370\",\"SRR22402355\",\"SRR22402353\",\"SRR22402352\",\"SRR22402351\",\"SRR22402350\",\"SRR22402349\",\"SRR22402384\",\"SRR22402297\",\"SRR22402275\",\"SRR22402318\",\"SRR22402347\",\"SRR22402383\",\"SRR22402317\",\"SRR22402304\",\"SRR22402371\",\"SRR22402264\",\"SRR22402365\",\"SRR22402369\",\"SRR22402368\",\"SRR22402367\",\"SRR22402366\",\"SRR22402364\",\"SRR22402292\",\"SRR22402299\",\"SRR22402291\",\"SRR22402305\",\"SRR22402277\",\"SRR22402270\",\"SRR22402265\",\"SRR22402259\",\"SRR22402258\",\"SRR22402327\",\"SRR22402319\",\"SRR22402310\",\"SRR22402306\",\"SRR22402303\",\"SRR22402328\",\"SRR22402332\",\"SRR22402331\",\"SRR22402266\",\"SRR22402307\",\"SRR22402333\",\"SRR22402329\"]\n",
    "X = pd.read_csv(\"../family_features.csv\", sep=\";\")\n",
    "# filter out samples with negative TG serology\n",
    "X = X.loc[~X[\"Sample\"].isin(negative_serology)]\n",
    "y = pd.read_csv(\"../../labels.csv\", sep=\";\")\n",
    "y = y.loc[y[\"Sample\"].isin(X[\"Sample\"])].set_index(\"Sample\", drop=True)[\"Label\"]\n",
    "X = X.set_index(\"Sample\", drop=True)\n",
    "X.shape"
   ]
  },
  {
   "cell_type": "code",
   "execution_count": 63,
   "metadata": {},
   "outputs": [
    {
     "data": {
      "text/plain": [
       "Label\n",
       "0    86\n",
       "1    36\n",
       "Name: count, dtype: int64"
      ]
     },
     "execution_count": 63,
     "metadata": {},
     "output_type": "execute_result"
    }
   ],
   "source": [
    "y.value_counts()"
   ]
  },
  {
   "attachments": {},
   "cell_type": "markdown",
   "metadata": {},
   "source": [
    "## Remove features with less than n% unique values"
   ]
  },
  {
   "cell_type": "code",
   "execution_count": 56,
   "metadata": {},
   "outputs": [
    {
     "data": {
      "text/plain": [
       "(122, 246)"
      ]
     },
     "execution_count": 56,
     "metadata": {},
     "output_type": "execute_result"
    }
   ],
   "source": [
    "# Calculate the percentage of unique values for each feature\n",
    "unique_percentages = (X.nunique() / X.shape[0]) * 100\n",
    "\n",
    "# Identify features with more than 90% same values\n",
    "features_to_drop = unique_percentages[unique_percentages < 90].index\n",
    "\n",
    "# Remove the identified features from the DataFrame\n",
    "filtered_X = X.drop(features_to_drop, axis=1)\n",
    "filtered_X.shape"
   ]
  },
  {
   "attachments": {},
   "cell_type": "markdown",
   "metadata": {},
   "source": [
    "## Split the data"
   ]
  },
  {
   "cell_type": "code",
   "execution_count": 57,
   "metadata": {},
   "outputs": [],
   "source": [
    "X_train, X_test, y_train, y_test = train_test_split(X, y, test_size=0.2, random_state=42)"
   ]
  },
  {
   "attachments": {},
   "cell_type": "markdown",
   "metadata": {},
   "source": [
    "# Models"
   ]
  },
  {
   "attachments": {},
   "cell_type": "markdown",
   "metadata": {},
   "source": [
    "## Logistic LASSO regression"
   ]
  },
  {
   "cell_type": "code",
   "execution_count": 58,
   "metadata": {},
   "outputs": [],
   "source": [
    "lasso_pipeline = Pipeline([\n",
    "    ('variance_filter', VarianceThreshold(threshold=0)),\n",
    "    ('log_transform', FunctionTransformer(np.log1p)),\n",
    "    ('lasso', Lasso(alpha=0.1))\n",
    "])"
   ]
  },
  {
   "cell_type": "code",
   "execution_count": 59,
   "metadata": {},
   "outputs": [
    {
     "name": "stdout",
     "output_type": "stream",
     "text": [
      "Mean Squared Error: 0.2354888382765602\n",
      "R-squared: -0.08220973472683912\n"
     ]
    },
    {
     "data": {
      "text/plain": [
       "{'lasso__alpha': 0.1}"
      ]
     },
     "execution_count": 59,
     "metadata": {},
     "output_type": "execute_result"
    }
   ],
   "source": [
    "# define the hyperparameters to search over\n",
    "lasso_param_grid = {\n",
    "    'lasso__alpha': [0.1,0.2,0.3,0.4,0.5,0.6,0.7,0.8,0.9,1]\n",
    "    # 'logreg__C': [0.1,0.2,0.3,0.4,0.5,0.6,0.7,0.8,0.9,1]\n",
    "}\n",
    "\n",
    "# perform grid search to find the best hyperparameters\n",
    "lasso_grid_search = GridSearchCV(lasso_pipeline, param_grid=lasso_param_grid, cv=10, n_jobs=-1)\n",
    "# Fit the GridSearchCV object on the training data\n",
    "lasso_grid_search.fit(X_train, y_train)\n",
    "\n",
    "# Get the best estimator and make predictions on the testing data\n",
    "best_estimator = lasso_grid_search.best_estimator_\n",
    "y_pred = best_estimator.predict(X_test)\n",
    "\n",
    "# Calculate regression metrics, e.g., mean squared error (MSE), R-squared\n",
    "mse = mean_squared_error(y_test, y_pred)\n",
    "r2 = r2_score(y_test, y_pred)\n",
    "\n",
    "# Print the metrics\n",
    "print(f\"Mean Squared Error: {mse}\")\n",
    "print(f\"R-squared: {r2}\")\n",
    "lasso_grid_search.best_params_"
   ]
  },
  {
   "attachments": {},
   "cell_type": "markdown",
   "metadata": {},
   "source": [
    "## Logistic regression"
   ]
  },
  {
   "cell_type": "code",
   "execution_count": 64,
   "metadata": {},
   "outputs": [],
   "source": [
    "pipeline = Pipeline([\n",
    "    ('variance_filter', VarianceThreshold(threshold=0)),\n",
    "    ('feature_selection', SelectKBest(score_func=f_classif, k=50)),  # ANOVA feature selection with k=10\n",
    "    ('log_transform', FunctionTransformer(np.log1p)),\n",
    "    ('min_max_scale', MinMaxScaler()),\n",
    "    ('logreg', LogisticRegression(max_iter=150,random_state=42))\n",
    "])"
   ]
  },
  {
   "cell_type": "code",
   "execution_count": 65,
   "metadata": {},
   "outputs": [
    {
     "name": "stdout",
     "output_type": "stream",
     "text": [
      "Accuracy: 0.56\n",
      "Best score:  0.7731578947368422\n"
     ]
    },
    {
     "data": {
      "image/png": "[encoded data removed]",
      "text/plain": [
       "<Figure size 432x288 with 2 Axes>"
      ]
     },
     "metadata": {
      "needs_background": "light"
     },
     "output_type": "display_data"
    },
    {
     "data": {
      "text/plain": [
       "{'logreg__C': 1}"
      ]
     },
     "execution_count": 65,
     "metadata": {},
     "output_type": "execute_result"
    }
   ],
   "source": [
    "# define the hyperparameters to search over\n",
    "param_grid = {\n",
    "    'logreg__C': [0.1,0.2,0.3,0.4,0.5,0.6,0.7,0.8,0.9,1]\n",
    "}\n",
    "\n",
    "# perform grid search to find the best hyperparameters\n",
    "grid_search = GridSearchCV(pipeline, param_grid=param_grid, cv=5, n_jobs=-1)\n",
    "# Fit the GridSearchCV object on the training data\n",
    "grid_search.fit(X_train, y_train)\n",
    "\n",
    "# Get the best estimator and make predictions on the testing data\n",
    "best_estimator = grid_search.best_estimator_\n",
    "y_pred = best_estimator.predict(X_test)\n",
    "\n",
    "# Compute accuracy for the best found RF\n",
    "accuracy = accuracy_score(y_test, y_pred)\n",
    "print(\"Accuracy:\", accuracy)\n",
    "print('Best score: ', grid_search.best_score_)\n",
    "\n",
    "cm = confusion_matrix(y_test, y_pred, labels=best_estimator.classes_)\n",
    "disp = ConfusionMatrixDisplay(confusion_matrix=cm,\n",
    "                              display_labels=best_estimator.classes_)\n",
    "disp.plot()\n",
    "plt.show()\n",
    "grid_search.best_params_"
   ]
  },
  {
   "attachments": {},
   "cell_type": "markdown",
   "metadata": {},
   "source": [
    "## Random forest"
   ]
  },
  {
   "cell_type": "code",
   "execution_count": 46,
   "metadata": {},
   "outputs": [],
   "source": [
    "# Define the Pipeline\n",
    "rf_pipeline = Pipeline([\n",
    "    # ('variance_filter', VarianceThreshold()), # Step 0: filter out variables with variance < threshold\n",
    "    ('log_transform', FunctionTransformer(np.log1p)),  # Step 1: log transformation\n",
    "    ('min_max_scaler', MinMaxScaler()),  # Step 2: min-max scaling\n",
    "    ('pca', PCA()),  # Step 3: PCA\n",
    "    ('rf', RandomForestClassifier(random_state=42, warm_start=True))  # Step 4: Random Forest\n",
    "])"
   ]
  },
  {
   "cell_type": "code",
   "execution_count": 49,
   "metadata": {},
   "outputs": [],
   "source": [
    "# #Define the parameter grid for grid search\n",
    "rf_param_grid = {\n",
    "    # 'variance_filter__threshold': [0.0, 0.1, 0.2, 0.3, 0.4], # grid search value for variance filter threshold\n",
    "    'pca__n_components': [1, 5, 10, 15, 20, 25, 30],  # Step 3:grid search number of components\n",
    "    'rf__n_estimators': [100, 150, 200, 250, 300, 350],  # Step 4: grid search for n_estimators\n",
    "    'rf__max_depth': [25, 50, 100, 200, 250, 300, None],  # Step 4: grid search for max_depth\n",
    "    'rf__criterion' :['gini', 'entropy', 'log_loss'], # Step 4: grid search for criterion\n",
    "    'rf__max_features': ['sqrt', 'log2'], # Step 4: grid search for number of max_features\n",
    "}\n",
    "# rf_param_grid = {\n",
    "#     # 'variance_filter__threshold': [0.1], # grid search value for variance filter threshold\n",
    "#     'pca__n_components': [1],  # Step 3:grid search number of components\n",
    "#     'rf__n_estimators': [1],  # Step 4: grid search for n_estimators\n",
    "#     'rf__max_depth': [1],  # Step 4: grid search for max_depth\n",
    "#     'rf__criterion' :['gini', 'entropy', 'log_loss'], # Step 4: grid search for criterion\n",
    "#     'rf__max_features': ['sqrt', 'log2'], # Step 4: grid search for number of max_features\n",
    "# }\n",
    "\n",
    "# Define the GridSearchCV object\n",
    "rf_grid_search = GridSearchCV(rf_pipeline, param_grid=rf_param_grid, cv=5, n_jobs=-1)\n",
    "\n",
    "# Fit the GridSearchCV object on the training data\n",
    "rf_grid_search.fit(X_train, y_train)\n",
    "\n",
    "# Get the best estimator and make predictions on the testing data\n",
    "best_estimator = rf_grid_search.best_estimator_\n",
    "y_pred = best_estimator.predict(X_test)\n",
    "\n",
    "# Compute accuracy for the best found RF\n",
    "report = classification_report(y_test, y_pred,output_dict=True)\n",
    "params = rf_grid_search.best_params_\n",
    "\n",
    "\n",
    "# print(\"Accuracy:\", accuracy)\n",
    "print(\"Classification report:\", report)\n",
    "print(\"Best score:\", rf_grid_search.best_score_)\n",
    "\n",
    "\n",
    "cm = confusion_matrix(y_test, y_pred, labels=best_estimator.classes_)\n",
    "disp = ConfusionMatrixDisplay(confusion_matrix=cm,\n",
    "                              display_labels=best_estimator.classes_)\n",
    "disp.plot()\n",
    "plt.show()\n",
    "rf_grid_search.best_params_"
   ]
  }
 ],
 "metadata": {
  "kernelspec": {
   "display_name": "rp",
   "language": "python",
   "name": "python3"
  },
  "language_info": {
   "codemirror_mode": {
    "name": "ipython",
    "version": 3
   },
   "file_extension": ".py",
   "mimetype": "text/x-python",
   "name": "python",
   "nbconvert_exporter": "python",
   "pygments_lexer": "ipython3",
   "version": "3.11.3"
  },
  "orig_nbformat": 4
 },
 "nbformat": 4,
 "nbformat_minor": 2
}
