{
 "cells": [
  {
   "cell_type": "code",
   "execution_count": 307,
   "id": "d7547246",
   "metadata": {},
   "outputs": [],
   "source": [
    "import pandas as pd\n",
    "import numpy as np\n",
    "import matplotlib.pyplot as plt\n",
    "from sklearn.decomposition import PCA\n",
    "from sklearn import preprocessing \n",
    "from sklearn.linear_model import LogisticRegression, LinearRegression\n",
    "from sklearn.model_selection import train_test_split, GridSearchCV\n",
    "from sklearn.metrics import accuracy_score, confusion_matrix, ConfusionMatrixDisplay\n",
    "from sklearn.svm import SVC\n",
    "from sklearn.ensemble import RandomForestClassifier"
   ]
  },
  {
   "cell_type": "markdown",
   "id": "d8ab56d5",
   "metadata": {},
   "source": [
    "### Load metadata"
   ]
  },
  {
   "cell_type": "code",
   "execution_count": 308,
   "id": "9776b8b0",
   "metadata": {},
   "outputs": [],
   "source": [
    "metadata = pd.read_csv(\"../../metadata.csv\", sep=\";\")"
   ]
  },
  {
   "cell_type": "markdown",
   "id": "490a9833",
   "metadata": {},
   "source": [
    "### Load features and labels"
   ]
  },
  {
   "cell_type": "code",
   "execution_count": 309,
   "id": "f58a3742",
   "metadata": {},
   "outputs": [],
   "source": [
    "X = pd.read_csv(\"../../taxonomy/species_data.csv\", sep=\";\").set_index(\"Sample\", drop=True)\n",
    "y = pd.read_csv(\"../../labels.csv\", sep=\";\").set_index(\"Sample\", drop=True)"
   ]
  },
  {
   "cell_type": "code",
   "execution_count": 310,
   "id": "87e5d6e7",
   "metadata": {},
   "outputs": [],
   "source": [
    "X = X.drop(\"Gorilla gorilla\", axis=1)\n",
    "X = X.drop(\"Homo sapiens\", axis=1)"
   ]
  },
  {
   "cell_type": "markdown",
   "id": "1647ff60",
   "metadata": {},
   "source": [
    "### Select only 1 of 2 datasets"
   ]
  },
  {
   "cell_type": "code",
   "execution_count": 311,
   "id": "2152812e",
   "metadata": {},
   "outputs": [],
   "source": [
    "X = X.loc[metadata[metadata[\"BioProject\"] == \"PRJNA757365\"][\"Run\"]]\n",
    "y = y.loc[metadata[metadata[\"BioProject\"] == \"PRJNA757365\"][\"Run\"]][\"Label\"]"
   ]
  },
  {
   "cell_type": "markdown",
   "id": "0d9cfe48",
   "metadata": {},
   "source": [
    "## log transformation"
   ]
  },
  {
   "cell_type": "code",
   "execution_count": 312,
   "id": "5f439808",
   "metadata": {},
   "outputs": [],
   "source": [
    "# perform a log transformation on the data\n",
    "X_log = np.log(X + 1)\n",
    "X_log"
   ]
  },
  {
   "cell_type": "markdown",
   "id": "bfee3374",
   "metadata": {},
   "source": [
    "## Normalize features using min-max"
   ]
  },
  {
   "cell_type": "code",
   "execution_count": 313,
   "id": "54055698",
   "metadata": {},
   "outputs": [],
   "source": [
    "min_max_scaler = preprocessing.MinMaxScaler()\n",
    "X_norm = min_max_scaler.fit_transform(X_log)\n",
    "X_norm.shape"
   ]
  },
  {
   "cell_type": "markdown",
   "id": "bfb6f000",
   "metadata": {},
   "source": [
    "# Estimate how many components use for PCA based on explained variance"
   ]
  },
  {
   "cell_type": "markdown",
   "id": "d2b6cb8a",
   "metadata": {},
   "source": [
    "## Perform PCA"
   ]
  },
  {
   "cell_type": "code",
   "execution_count": 314,
   "id": "09ed2117",
   "metadata": {},
   "outputs": [],
   "source": [
    "# Perform PCA\n",
    "pca = PCA()\n",
    "pca.fit(X_norm)"
   ]
  },
  {
   "cell_type": "markdown",
   "id": "20d99d9d",
   "metadata": {},
   "source": [
    "## Calculate the explained variance and Plot the cumulative explained variance"
   ]
  },
  {
   "cell_type": "code",
   "execution_count": 315,
   "id": "af34b894",
   "metadata": {},
   "outputs": [],
   "source": [
    "explained_variance = pca.explained_variance_ratio_\n",
    "cumulative_explained_variance = np.cumsum(explained_variance)\n",
    "fig = plt.figure(dpi=150)\n",
    "plt.plot(range(1, len(cumulative_explained_variance) + 1), cumulative_explained_variance)\n",
    "plt.title('Cumulative Explained Variance')\n",
    "plt.xlabel('Number of Principal Components')\n",
    "plt.ylabel('Cumulative Explained Variance')\n",
    "plt.show()"
   ]
  },
  {
   "cell_type": "markdown",
   "id": "3b95d1b4",
   "metadata": {},
   "source": [
    "# Run models on transformed features"
   ]
  },
  {
   "cell_type": "markdown",
   "id": "466c8952",
   "metadata": {},
   "source": [
    "## Instantiate PCA with the desired number of principal components from the previous section and split the data"
   ]
  },
  {
   "cell_type": "code",
   "execution_count": 316,
   "id": "d9e87157",
   "metadata": {},
   "outputs": [],
   "source": [
    "n_components = 1\n",
    "pca = PCA(n_components=n_components)\n",
    "\n",
    "# Fit and transform data\n",
    "pca.fit(X_norm)\n",
    "transformed = pca.transform(X_norm)\n",
    "# Split data into training and testing sets\n",
    "X_train, X_test, y_train, y_test = train_test_split(transformed, y, test_size=0.3, random_state=42)"
   ]
  },
  {
   "cell_type": "markdown",
   "id": "ceb18da8",
   "metadata": {},
   "source": [
    "## Random Forest"
   ]
  },
  {
   "cell_type": "markdown",
   "id": "42c0ba2e",
   "metadata": {},
   "source": [
    "### Grid search RF"
   ]
  },
  {
   "cell_type": "code",
   "execution_count": 323,
   "id": "af4f478f",
   "metadata": {},
   "outputs": [],
   "source": [
    "param_grid = { \n",
    "    'n_estimators': [50, 100, 150, 200, 250],\n",
    "    'max_features': ['sqrt', 'log2', None],\n",
    "    'criterion' :['gini', 'entropy', 'log_loss']\n",
    "}\n",
    "\n",
    "rfc = RandomForestClassifier(random_state=42)\n",
    "\n",
    "CV_rfc = GridSearchCV(estimator=rfc, param_grid=param_grid, cv=5, n_jobs=-1)\n",
    "CV_rfc.fit(X_train, y_train)\n",
    "\n",
    "CV_rfc.best_params_"
   ]
  },
  {
   "cell_type": "markdown",
   "id": "ce82b170",
   "metadata": {},
   "source": [
    "## Accuracy of the best RF found with grid search"
   ]
  },
  {
   "cell_type": "code",
   "execution_count": 324,
   "id": "34792df3",
   "metadata": {},
   "outputs": [],
   "source": [
    "rfc_best = RandomForestClassifier(\n",
    "    criterion=CV_rfc.best_params_[\"criterion\"],\n",
    "    max_features=CV_rfc.best_params_[\"max_features\"],\n",
    "    n_estimators=CV_rfc.best_params_[\"n_estimators\"],\n",
    "    random_state=42,\n",
    "    n_jobs=-1\n",
    ")\n",
    "\n",
    "rfc_best.fit(X_train, y_train)\n",
    "y_pred = rfc_best.predict(X_test)\n",
    "accuracy = accuracy_score(y_test, y_pred)\n",
    "print('Accuracy:', accuracy)"
   ]
  },
  {
   "cell_type": "markdown",
   "id": "d22f87ab",
   "metadata": {},
   "source": [
    "### Plot confusion matrix for random forest"
   ]
  },
  {
   "cell_type": "code",
   "execution_count": 319,
   "id": "f114dcfd",
   "metadata": {},
   "outputs": [],
   "source": [
    "cm = confusion_matrix(y_test, y_pred, labels=rfc_best.classes_)\n",
    "disp = ConfusionMatrixDisplay(confusion_matrix=cm,\n",
    "                              display_labels=rfc_best.classes_)\n",
    "disp.plot()\n",
    "plt.show()"
   ]
  },
  {
   "cell_type": "markdown",
   "id": "73e0bd59",
   "metadata": {},
   "source": [
    "## Logistic Regression"
   ]
  },
  {
   "cell_type": "code",
   "execution_count": 320,
   "id": "c0c3dea3",
   "metadata": {},
   "outputs": [],
   "source": [
    "# Fit logistic regression model\n",
    "model = LogisticRegression()\n",
    "model.fit(X_train, y_train)\n",
    "\n",
    "# Make predictions on the testing set\n",
    "y_pred = model.predict(X_test)\n",
    "\n",
    "# Calculate accuracy score\n",
    "accuracy = accuracy_score(y_test, y_pred)\n",
    "print('Accuracy:', accuracy)"
   ]
  },
  {
   "cell_type": "markdown",
   "id": "296b6a56",
   "metadata": {},
   "source": [
    "## SVM"
   ]
  },
  {
   "cell_type": "markdown",
   "id": "01351c5e",
   "metadata": {},
   "source": [
    "### linear kernel"
   ]
  },
  {
   "cell_type": "code",
   "execution_count": 321,
   "id": "6030aa91",
   "metadata": {},
   "outputs": [],
   "source": [
    "# Fit SVM model\n",
    "model = SVC(kernel='linear')\n",
    "model.fit(X_train, y_train)\n",
    "\n",
    "# Make predictions on the testing set\n",
    "y_pred = model.predict(X_test)\n",
    "\n",
    "# Calculate accuracy score\n",
    "accuracy = accuracy_score(y_test, y_pred)\n",
    "print('Accuracy:', accuracy)"
   ]
  },
  {
   "cell_type": "code",
   "execution_count": 322,
   "id": "cc087797",
   "metadata": {},
   "outputs": [],
   "source": [
    "grid_search.best_params_"
   ]
  }
 ],
 "metadata": {
  "kernelspec": {
   "display_name": "rp",
   "language": "python",
   "name": "rp"
  },
  "language_info": {
   "codemirror_mode": {
    "name": "ipython",
    "version": 3
   },
   "file_extension": ".py",
   "mimetype": "text/x-python",
   "name": "python",
   "nbconvert_exporter": "python",
   "pygments_lexer": "ipython3",
   "version": "3.11.3"
  }
 },
 "nbformat": 4,
 "nbformat_minor": 5
}
