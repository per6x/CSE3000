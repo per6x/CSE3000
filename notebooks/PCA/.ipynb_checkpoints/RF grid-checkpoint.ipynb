{
 "cells": [
  {
   "cell_type": "code",
   "execution_count": 79,
   "id": "d7547246",
   "metadata": {},
   "outputs": [],
   "source": [
    "import pandas as pd\n",
    "import numpy as np\n",
    "import matplotlib.pyplot as plt\n",
    "from sklearn.pipeline import Pipeline\n",
    "from sklearn.preprocessing import FunctionTransformer, MinMaxScaler\n",
    "from sklearn.decomposition import PCA\n",
    "from sklearn.ensemble import RandomForestClassifier\n",
    "from sklearn.model_selection import GridSearchCV\n",
    "from sklearn.metrics import accuracy_score\n",
    "from sklearn.model_selection import train_test_split\n",
    "from sklearn.metrics import accuracy_score, confusion_matrix, ConfusionMatrixDisplay\n",
    "from sklearn.feature_selection import SelectKBest, f_classif, VarianceThreshold"
   ]
  },
  {
   "cell_type": "markdown",
   "id": "d8ab56d5",
   "metadata": {},
   "source": [
    "### Load metadata"
   ]
  },
  {
   "cell_type": "code",
   "execution_count": 42,
   "id": "9776b8b0",
   "metadata": {},
   "outputs": [],
   "source": [
    "metadata = pd.read_csv(\"../../metadata.csv\", sep=\";\")"
   ]
  },
  {
   "cell_type": "markdown",
   "id": "490a9833",
   "metadata": {},
   "source": [
    "### Load features and labels"
   ]
  },
  {
   "cell_type": "code",
   "execution_count": 85,
   "id": "f58a3742",
   "metadata": {},
   "outputs": [],
   "source": [
    "X = pd.read_csv(\"../../taxonomy/species_data.csv\", sep=\";\").set_index(\"Sample\", drop=True)\n",
    "X = X.drop(\"Gorilla gorilla\", axis=1)\n",
    "X = X.drop(\"Homo sapiens\", axis=1)\n",
    "y = pd.read_csv(\"../../labels.csv\", sep=\";\").set_index(\"Sample\", drop=True)\n",
    "\n",
    "X = X.loc[metadata[metadata[\"BioProject\"] == \"PRJNA757365\"][\"Run\"]]\n",
    "y = y.loc[metadata[metadata[\"BioProject\"] == \"PRJNA757365\"][\"Run\"]][\"Label\"]"
   ]
  },
  {
   "cell_type": "markdown",
   "id": "2c2ee123",
   "metadata": {},
   "source": [
    "### Split the data into train and test"
   ]
  },
  {
   "cell_type": "code",
   "execution_count": 86,
   "id": "23b9a303",
   "metadata": {},
   "outputs": [],
   "source": [
    "# Split data into training and testing sets\n",
    "X_train, X_test, y_train, y_test = train_test_split(X, y, test_size=0.2, random_state=42)"
   ]
  },
  {
   "cell_type": "markdown",
   "id": "8468c5d7",
   "metadata": {},
   "source": [
    "### Grid Search for PCA and Random Forest Classifier"
   ]
  },
  {
   "cell_type": "code",
   "execution_count": 95,
   "id": "9c3120be",
   "metadata": {},
   "outputs": [],
   "source": [
    "# Define the Pipeline\n",
    "pipeline = Pipeline([\n",
    "    ('variance_filter', VarianceThreshold()), # Step 0: filter out variables with variance < threshold\n",
    "    ('log_transform', FunctionTransformer(np.log1p)),  # Step 1: log transformation\n",
    "    ('min_max_scaler', MinMaxScaler()),  # Step 2: min-max scaling\n",
    "    ('pca', PCA()),  # Step 3: PCA\n",
    "    ('rf', RandomForestClassifier(random_state=42))  # Step 4: Random Forest\n",
    "])"
   ]
  },
  {
   "cell_type": "code",
   "execution_count": 94,
   "id": "8ccf8d64",
   "metadata": {},
   "outputs": [
    {
     "name": "stdout",
     "output_type": "stream",
     "text": [
      "Accuracy: 0.75\n"
     ]
    },
    {
     "data": {
      "image/png": "[encoded data removed]",
      "text/plain": [
       "<Figure size 432x288 with 2 Axes>"
      ]
     },
     "metadata": {
      "needs_background": "light"
     },
     "output_type": "display_data"
    },
    {
     "data": {
      "text/plain": [
       "{'pca__n_components': 40,\n",
       " 'rf__criterion': 'gini',\n",
       " 'rf__max_depth': 50,\n",
       " 'rf__max_features': 'log2',\n",
       " 'rf__n_estimators': 250,\n",
       " 'variance_filter__threshold': 0.1}"
      ]
     },
     "execution_count": 94,
     "metadata": {},
     "output_type": "execute_result"
    }
   ],
   "source": [
    "# Define the parameter grid for grid search\n",
    "param_grid = {\n",
    "    'variance_filter__threshold': [0.0, 0.1, 0.2], # grid search value for variance filter threshold\n",
    "    'pca__n_components': [40],  # Step 3:grid search number of components\n",
    "    'rf__n_estimators': [200, 250, 300],  # Step 4: grid search for n_estimators\n",
    "    'rf__max_depth': [50, 100, 300, None],  # Step 4: grid search for max_depth\n",
    "    'rf__criterion' :['gini', 'entropy', 'log_loss'], # Step 4: grid search for criterion\n",
    "    'rf__max_features': ['sqrt', 'log2'], # Step 4: grid search for number of max_features\n",
    "}\n",
    "\n",
    "# Define the GridSearchCV object\n",
    "grid_search = GridSearchCV(pipeline, param_grid=param_grid, cv=5, n_jobs=-1)\n",
    "\n",
    "# Fit the GridSearchCV object on the training data\n",
    "grid_search.fit(X_train, y_train)\n",
    "\n",
    "# Get the best estimator and make predictions on the testing data\n",
    "best_estimator = grid_search.best_estimator_\n",
    "y_pred = best_estimator.predict(X_test)\n",
    "\n",
    "# Compute accuracy for the best found RF\n",
    "accuracy = accuracy_score(y_test, y_pred)\n",
    "print(\"Accuracy:\", accuracy)\n",
    "\n",
    "cm = confusion_matrix(y_test, y_pred, labels=best_estimator.classes_)\n",
    "disp = ConfusionMatrixDisplay(confusion_matrix=cm,\n",
    "                              display_labels=best_estimator.classes_)\n",
    "disp.plot()\n",
    "plt.show()\n",
    "grid_search.best_params_"
   ]
  },
  {
   "cell_type": "markdown",
   "id": "02f2d7a9",
   "metadata": {},
   "source": [
    "### Grid Search for ANOVA and random forest "
   ]
  },
  {
   "cell_type": "code",
   "execution_count": 80,
   "id": "38fe5049",
   "metadata": {},
   "outputs": [
    {
     "name": "stdout",
     "output_type": "stream",
     "text": [
      "Accuracy: 0.625\n"
     ]
    }
   ],
   "source": [
    "# Define the Pipeline\n",
    "pipeline = Pipeline([\n",
    "    ('variance_filter', VarianceThreshold(0.1)),\n",
    "    ('feature_selection', SelectKBest(f_classif)),  # Step 1: feature selection using ANOVA F-value\n",
    "    ('log_transform', FunctionTransformer(np.log1p)),  # Step 2: log transformation\n",
    "    ('min_max_scaler', MinMaxScaler()),  # Step 3: min-max scaling\n",
    "    ('rf', RandomForestClassifier())  # Step 4: Random Forest with default hyperparameters\n",
    "])\n",
    "\n",
    "# Define the parameter grid for grid search\n",
    "param_grid = {\n",
    "    'feature_selection__k': [5, 10, 15],  # Step 1: select k features\n",
    "    'rf__n_estimators': [100, 200, 300],  # Step 4: grid search for n_estimators\n",
    "    'rf__max_depth': [5, 10, 15]  # Step 4: grid search for max_depth\n",
    "}\n",
    "\n",
    "# Define the GridSearchCV object\n",
    "grid_search = GridSearchCV(pipeline, param_grid=param_grid, cv=5, n_jobs=-1)\n",
    "\n",
    "# Fit the GridSearchCV object on the training data\n",
    "grid_search.fit(X_train, y_train)\n",
    "\n",
    "# Get the best estimator and make predictions on the testing data\n",
    "best_estimator = grid_search.best_estimator_\n",
    "y_pred = best_estimator.predict(X_test)\n",
    "\n",
    "# Compute accuracy for the best found RF\n",
    "accuracy = accuracy_score(y_test, y_pred)\n",
    "print(\"Accuracy:\", accuracy)\n"
   ]
  }
 ],
 "metadata": {
  "kernelspec": {
   "display_name": "rp",
   "language": "python",
   "name": "rp"
  },
  "language_info": {
   "codemirror_mode": {
    "name": "ipython",
    "version": 3
   },
   "file_extension": ".py",
   "mimetype": "text/x-python",
   "name": "python",
   "nbconvert_exporter": "python",
   "pygments_lexer": "ipython3",
   "version": "3.11.3"
  }
 },
 "nbformat": 4,
 "nbformat_minor": 5
}
