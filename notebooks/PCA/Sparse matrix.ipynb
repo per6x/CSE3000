{
 "cells": [
  {
   "cell_type": "code",
   "execution_count": 2,
   "id": "31b4b8c4",
   "metadata": {},
   "outputs": [],
   "source": [
    "import pandas as pd\n",
    "import numpy as np\n",
    "import matplotlib.pyplot as plt\n",
    "from sklearn.decomposition import PCA\n",
    "from sklearn import preprocessing \n",
    "from sklearn.linear_model import LogisticRegression, LinearRegression\n",
    "from sklearn.model_selection import train_test_split\n",
    "from sklearn.metrics import accuracy_score\n",
    "from sklearn.svm import SVC\n",
    "from sklearn.preprocessing import StandardScaler\n",
    "from scipy.sparse import csr_matrix"
   ]
  },
  {
   "cell_type": "markdown",
   "id": "c0771610",
   "metadata": {},
   "source": [
    "### Load metadata"
   ]
  },
  {
   "cell_type": "code",
   "execution_count": 3,
   "id": "8a4821b7",
   "metadata": {},
   "outputs": [],
   "source": [
    "metadata = pd.read_csv(\"../../metadata.csv\", sep=\";\")"
   ]
  },
  {
   "cell_type": "markdown",
   "id": "0f39a6ad",
   "metadata": {},
   "source": [
    "### Load features and labels"
   ]
  },
  {
   "cell_type": "code",
   "execution_count": 45,
   "id": "f58a3742",
   "metadata": {},
   "outputs": [],
   "source": [
    "X = pd.read_csv(\"../../taxonomy/species_data.csv\", sep=\";\").set_index(\"Sample\", drop=True)\n",
    "y = pd.read_csv(\"../../labels.csv\", sep=\";\").set_index(\"Sample\", drop=True)"
   ]
  },
  {
   "cell_type": "markdown",
   "id": "d3008ed2",
   "metadata": {},
   "source": [
    "### Select only 1 of 2 datasets"
   ]
  },
  {
   "cell_type": "code",
   "execution_count": 46,
   "id": "527bddcf",
   "metadata": {},
   "outputs": [],
   "source": [
    "# y = y[\"Label\"]\n",
    "X = X.loc[metadata[metadata[\"BioProject\"] == \"PRJNA757365\"][\"Run\"]]\n",
    "y = y.loc[metadata[metadata[\"BioProject\"] == \"PRJNA757365\"][\"Run\"]][\"Label\"]"
   ]
  },
  {
   "cell_type": "markdown",
   "id": "b80e1610",
   "metadata": {},
   "source": [
    "## log transformation"
   ]
  },
  {
   "cell_type": "code",
   "execution_count": 47,
   "id": "379e9aa4",
   "metadata": {},
   "outputs": [
    {
     "data": {
      "text/html": [
       "<div>\n",
       "<style scoped>\n",
       "    .dataframe tbody tr th:only-of-type {\n",
       "        vertical-align: middle;\n",
       "    }\n",
       "\n",
       "    .dataframe tbody tr th {\n",
       "        vertical-align: top;\n",
       "    }\n",
       "\n",
       "    .dataframe thead th {\n",
       "        text-align: right;\n",
       "    }\n",
       "</style>\n",
       "<table border=\"1\" class=\"dataframe\">\n",
       "  <thead>\n",
       "    <tr style=\"text-align: right;\">\n",
       "      <th></th>\n",
       "      <th>Gorilla gorilla</th>\n",
       "      <th>Saccharomyces cerevisiae</th>\n",
       "      <th>Homo sapiens</th>\n",
       "      <th>Chryseobacterium sp. LAM-KRS1</th>\n",
       "      <th>Pongo abelii</th>\n",
       "      <th>Mangifera indica</th>\n",
       "      <th>Cyprinus carpio</th>\n",
       "      <th>Hylobates moloch</th>\n",
       "      <th>Pipra filicauda</th>\n",
       "      <th>Pan troglodytes</th>\n",
       "      <th>...</th>\n",
       "      <th>Methylonatrum kenyense</th>\n",
       "      <th>Candidatus Nardonella dryophthoridicola</th>\n",
       "      <th>Wohlfahrtiimonas larvae</th>\n",
       "      <th>Buchananvirus Sa179lw</th>\n",
       "      <th>Halospina denitrificans</th>\n",
       "      <th>Dehalogenimonas alkenigignens</th>\n",
       "      <th>Swiduovirus swi2</th>\n",
       "      <th>Shuimuvirus IME207</th>\n",
       "      <th>Akiravirus akira</th>\n",
       "      <th>Pseudohongiella spirulinae</th>\n",
       "    </tr>\n",
       "    <tr>\n",
       "      <th>Sample</th>\n",
       "      <th></th>\n",
       "      <th></th>\n",
       "      <th></th>\n",
       "      <th></th>\n",
       "      <th></th>\n",
       "      <th></th>\n",
       "      <th></th>\n",
       "      <th></th>\n",
       "      <th></th>\n",
       "      <th></th>\n",
       "      <th></th>\n",
       "      <th></th>\n",
       "      <th></th>\n",
       "      <th></th>\n",
       "      <th></th>\n",
       "      <th></th>\n",
       "      <th></th>\n",
       "      <th></th>\n",
       "      <th></th>\n",
       "      <th></th>\n",
       "      <th></th>\n",
       "    </tr>\n",
       "  </thead>\n",
       "  <tbody>\n",
       "    <tr>\n",
       "      <th>SRR15595353</th>\n",
       "      <td>9.386812</td>\n",
       "      <td>0.000000</td>\n",
       "      <td>14.775083</td>\n",
       "      <td>0.0</td>\n",
       "      <td>9.183380</td>\n",
       "      <td>0.0</td>\n",
       "      <td>0.000000</td>\n",
       "      <td>0.0</td>\n",
       "      <td>0.0</td>\n",
       "      <td>9.354527</td>\n",
       "      <td>...</td>\n",
       "      <td>0.0</td>\n",
       "      <td>0.0</td>\n",
       "      <td>0.0</td>\n",
       "      <td>0.0</td>\n",
       "      <td>0.0</td>\n",
       "      <td>0.0</td>\n",
       "      <td>0.0</td>\n",
       "      <td>0.0</td>\n",
       "      <td>0.0</td>\n",
       "      <td>0.0</td>\n",
       "    </tr>\n",
       "    <tr>\n",
       "      <th>SRR15595352</th>\n",
       "      <td>9.359880</td>\n",
       "      <td>0.000000</td>\n",
       "      <td>14.730431</td>\n",
       "      <td>0.0</td>\n",
       "      <td>9.167224</td>\n",
       "      <td>0.0</td>\n",
       "      <td>0.000000</td>\n",
       "      <td>0.0</td>\n",
       "      <td>0.0</td>\n",
       "      <td>9.356430</td>\n",
       "      <td>...</td>\n",
       "      <td>0.0</td>\n",
       "      <td>0.0</td>\n",
       "      <td>0.0</td>\n",
       "      <td>0.0</td>\n",
       "      <td>0.0</td>\n",
       "      <td>0.0</td>\n",
       "      <td>0.0</td>\n",
       "      <td>0.0</td>\n",
       "      <td>0.0</td>\n",
       "      <td>0.0</td>\n",
       "    </tr>\n",
       "    <tr>\n",
       "      <th>SRR15595351</th>\n",
       "      <td>9.896513</td>\n",
       "      <td>0.000000</td>\n",
       "      <td>15.181342</td>\n",
       "      <td>0.0</td>\n",
       "      <td>9.595875</td>\n",
       "      <td>0.0</td>\n",
       "      <td>0.000000</td>\n",
       "      <td>0.0</td>\n",
       "      <td>0.0</td>\n",
       "      <td>9.810988</td>\n",
       "      <td>...</td>\n",
       "      <td>0.0</td>\n",
       "      <td>0.0</td>\n",
       "      <td>0.0</td>\n",
       "      <td>0.0</td>\n",
       "      <td>0.0</td>\n",
       "      <td>0.0</td>\n",
       "      <td>0.0</td>\n",
       "      <td>0.0</td>\n",
       "      <td>0.0</td>\n",
       "      <td>0.0</td>\n",
       "    </tr>\n",
       "    <tr>\n",
       "      <th>SRR15595350</th>\n",
       "      <td>0.000000</td>\n",
       "      <td>0.000000</td>\n",
       "      <td>6.091310</td>\n",
       "      <td>0.0</td>\n",
       "      <td>0.000000</td>\n",
       "      <td>0.0</td>\n",
       "      <td>0.693147</td>\n",
       "      <td>0.0</td>\n",
       "      <td>0.0</td>\n",
       "      <td>0.000000</td>\n",
       "      <td>...</td>\n",
       "      <td>0.0</td>\n",
       "      <td>0.0</td>\n",
       "      <td>0.0</td>\n",
       "      <td>0.0</td>\n",
       "      <td>0.0</td>\n",
       "      <td>0.0</td>\n",
       "      <td>0.0</td>\n",
       "      <td>0.0</td>\n",
       "      <td>0.0</td>\n",
       "      <td>0.0</td>\n",
       "    </tr>\n",
       "    <tr>\n",
       "      <th>SRR15595349</th>\n",
       "      <td>9.629840</td>\n",
       "      <td>0.000000</td>\n",
       "      <td>15.041867</td>\n",
       "      <td>0.0</td>\n",
       "      <td>9.355133</td>\n",
       "      <td>0.0</td>\n",
       "      <td>0.000000</td>\n",
       "      <td>0.0</td>\n",
       "      <td>0.0</td>\n",
       "      <td>9.739791</td>\n",
       "      <td>...</td>\n",
       "      <td>0.0</td>\n",
       "      <td>0.0</td>\n",
       "      <td>0.0</td>\n",
       "      <td>0.0</td>\n",
       "      <td>0.0</td>\n",
       "      <td>0.0</td>\n",
       "      <td>0.0</td>\n",
       "      <td>0.0</td>\n",
       "      <td>0.0</td>\n",
       "      <td>0.0</td>\n",
       "    </tr>\n",
       "    <tr>\n",
       "      <th>...</th>\n",
       "      <td>...</td>\n",
       "      <td>...</td>\n",
       "      <td>...</td>\n",
       "      <td>...</td>\n",
       "      <td>...</td>\n",
       "      <td>...</td>\n",
       "      <td>...</td>\n",
       "      <td>...</td>\n",
       "      <td>...</td>\n",
       "      <td>...</td>\n",
       "      <td>...</td>\n",
       "      <td>...</td>\n",
       "      <td>...</td>\n",
       "      <td>...</td>\n",
       "      <td>...</td>\n",
       "      <td>...</td>\n",
       "      <td>...</td>\n",
       "      <td>...</td>\n",
       "      <td>...</td>\n",
       "      <td>...</td>\n",
       "      <td>...</td>\n",
       "    </tr>\n",
       "    <tr>\n",
       "      <th>SRR15595248</th>\n",
       "      <td>0.000000</td>\n",
       "      <td>0.000000</td>\n",
       "      <td>7.740664</td>\n",
       "      <td>0.0</td>\n",
       "      <td>0.000000</td>\n",
       "      <td>0.0</td>\n",
       "      <td>0.000000</td>\n",
       "      <td>0.0</td>\n",
       "      <td>0.0</td>\n",
       "      <td>0.000000</td>\n",
       "      <td>...</td>\n",
       "      <td>0.0</td>\n",
       "      <td>0.0</td>\n",
       "      <td>0.0</td>\n",
       "      <td>0.0</td>\n",
       "      <td>0.0</td>\n",
       "      <td>0.0</td>\n",
       "      <td>0.0</td>\n",
       "      <td>0.0</td>\n",
       "      <td>0.0</td>\n",
       "      <td>0.0</td>\n",
       "    </tr>\n",
       "    <tr>\n",
       "      <th>SRR15595247</th>\n",
       "      <td>9.460632</td>\n",
       "      <td>0.000000</td>\n",
       "      <td>14.866044</td>\n",
       "      <td>0.0</td>\n",
       "      <td>9.419060</td>\n",
       "      <td>0.0</td>\n",
       "      <td>0.000000</td>\n",
       "      <td>0.0</td>\n",
       "      <td>0.0</td>\n",
       "      <td>9.521275</td>\n",
       "      <td>...</td>\n",
       "      <td>0.0</td>\n",
       "      <td>0.0</td>\n",
       "      <td>0.0</td>\n",
       "      <td>0.0</td>\n",
       "      <td>0.0</td>\n",
       "      <td>0.0</td>\n",
       "      <td>0.0</td>\n",
       "      <td>0.0</td>\n",
       "      <td>0.0</td>\n",
       "      <td>0.0</td>\n",
       "    </tr>\n",
       "    <tr>\n",
       "      <th>SRR15595246</th>\n",
       "      <td>0.000000</td>\n",
       "      <td>3.091042</td>\n",
       "      <td>6.484635</td>\n",
       "      <td>0.0</td>\n",
       "      <td>0.000000</td>\n",
       "      <td>0.0</td>\n",
       "      <td>0.693147</td>\n",
       "      <td>0.0</td>\n",
       "      <td>0.0</td>\n",
       "      <td>0.000000</td>\n",
       "      <td>...</td>\n",
       "      <td>0.0</td>\n",
       "      <td>0.0</td>\n",
       "      <td>0.0</td>\n",
       "      <td>0.0</td>\n",
       "      <td>0.0</td>\n",
       "      <td>0.0</td>\n",
       "      <td>0.0</td>\n",
       "      <td>0.0</td>\n",
       "      <td>0.0</td>\n",
       "      <td>0.0</td>\n",
       "    </tr>\n",
       "    <tr>\n",
       "      <th>SRR15595245</th>\n",
       "      <td>0.000000</td>\n",
       "      <td>0.000000</td>\n",
       "      <td>7.592366</td>\n",
       "      <td>0.0</td>\n",
       "      <td>0.000000</td>\n",
       "      <td>0.0</td>\n",
       "      <td>0.693147</td>\n",
       "      <td>0.0</td>\n",
       "      <td>0.0</td>\n",
       "      <td>0.000000</td>\n",
       "      <td>...</td>\n",
       "      <td>0.0</td>\n",
       "      <td>0.0</td>\n",
       "      <td>0.0</td>\n",
       "      <td>0.0</td>\n",
       "      <td>0.0</td>\n",
       "      <td>0.0</td>\n",
       "      <td>0.0</td>\n",
       "      <td>0.0</td>\n",
       "      <td>0.0</td>\n",
       "      <td>0.0</td>\n",
       "    </tr>\n",
       "    <tr>\n",
       "      <th>SRR15595244</th>\n",
       "      <td>0.000000</td>\n",
       "      <td>0.000000</td>\n",
       "      <td>5.429346</td>\n",
       "      <td>0.0</td>\n",
       "      <td>0.000000</td>\n",
       "      <td>0.0</td>\n",
       "      <td>0.693147</td>\n",
       "      <td>0.0</td>\n",
       "      <td>0.0</td>\n",
       "      <td>0.000000</td>\n",
       "      <td>...</td>\n",
       "      <td>0.0</td>\n",
       "      <td>0.0</td>\n",
       "      <td>0.0</td>\n",
       "      <td>0.0</td>\n",
       "      <td>0.0</td>\n",
       "      <td>0.0</td>\n",
       "      <td>0.0</td>\n",
       "      <td>0.0</td>\n",
       "      <td>0.0</td>\n",
       "      <td>0.0</td>\n",
       "    </tr>\n",
       "  </tbody>\n",
       "</table>\n",
       "<p>80 rows × 479 columns</p>\n",
       "</div>"
      ],
      "text/plain": [
       "             Gorilla gorilla  Saccharomyces cerevisiae  Homo sapiens   \n",
       "Sample                                                                 \n",
       "SRR15595353         9.386812                  0.000000     14.775083  \\\n",
       "SRR15595352         9.359880                  0.000000     14.730431   \n",
       "SRR15595351         9.896513                  0.000000     15.181342   \n",
       "SRR15595350         0.000000                  0.000000      6.091310   \n",
       "SRR15595349         9.629840                  0.000000     15.041867   \n",
       "...                      ...                       ...           ...   \n",
       "SRR15595248         0.000000                  0.000000      7.740664   \n",
       "SRR15595247         9.460632                  0.000000     14.866044   \n",
       "SRR15595246         0.000000                  3.091042      6.484635   \n",
       "SRR15595245         0.000000                  0.000000      7.592366   \n",
       "SRR15595244         0.000000                  0.000000      5.429346   \n",
       "\n",
       "             Chryseobacterium sp. LAM-KRS1  Pongo abelii  Mangifera indica   \n",
       "Sample                                                                       \n",
       "SRR15595353                            0.0      9.183380               0.0  \\\n",
       "SRR15595352                            0.0      9.167224               0.0   \n",
       "SRR15595351                            0.0      9.595875               0.0   \n",
       "SRR15595350                            0.0      0.000000               0.0   \n",
       "SRR15595349                            0.0      9.355133               0.0   \n",
       "...                                    ...           ...               ...   \n",
       "SRR15595248                            0.0      0.000000               0.0   \n",
       "SRR15595247                            0.0      9.419060               0.0   \n",
       "SRR15595246                            0.0      0.000000               0.0   \n",
       "SRR15595245                            0.0      0.000000               0.0   \n",
       "SRR15595244                            0.0      0.000000               0.0   \n",
       "\n",
       "             Cyprinus carpio  Hylobates moloch  Pipra filicauda   \n",
       "Sample                                                            \n",
       "SRR15595353         0.000000               0.0              0.0  \\\n",
       "SRR15595352         0.000000               0.0              0.0   \n",
       "SRR15595351         0.000000               0.0              0.0   \n",
       "SRR15595350         0.693147               0.0              0.0   \n",
       "SRR15595349         0.000000               0.0              0.0   \n",
       "...                      ...               ...              ...   \n",
       "SRR15595248         0.000000               0.0              0.0   \n",
       "SRR15595247         0.000000               0.0              0.0   \n",
       "SRR15595246         0.693147               0.0              0.0   \n",
       "SRR15595245         0.693147               0.0              0.0   \n",
       "SRR15595244         0.693147               0.0              0.0   \n",
       "\n",
       "             Pan troglodytes  ...  Methylonatrum kenyense   \n",
       "Sample                        ...                           \n",
       "SRR15595353         9.354527  ...                     0.0  \\\n",
       "SRR15595352         9.356430  ...                     0.0   \n",
       "SRR15595351         9.810988  ...                     0.0   \n",
       "SRR15595350         0.000000  ...                     0.0   \n",
       "SRR15595349         9.739791  ...                     0.0   \n",
       "...                      ...  ...                     ...   \n",
       "SRR15595248         0.000000  ...                     0.0   \n",
       "SRR15595247         9.521275  ...                     0.0   \n",
       "SRR15595246         0.000000  ...                     0.0   \n",
       "SRR15595245         0.000000  ...                     0.0   \n",
       "SRR15595244         0.000000  ...                     0.0   \n",
       "\n",
       "             Candidatus Nardonella dryophthoridicola  Wohlfahrtiimonas larvae   \n",
       "Sample                                                                          \n",
       "SRR15595353                                      0.0                      0.0  \\\n",
       "SRR15595352                                      0.0                      0.0   \n",
       "SRR15595351                                      0.0                      0.0   \n",
       "SRR15595350                                      0.0                      0.0   \n",
       "SRR15595349                                      0.0                      0.0   \n",
       "...                                              ...                      ...   \n",
       "SRR15595248                                      0.0                      0.0   \n",
       "SRR15595247                                      0.0                      0.0   \n",
       "SRR15595246                                      0.0                      0.0   \n",
       "SRR15595245                                      0.0                      0.0   \n",
       "SRR15595244                                      0.0                      0.0   \n",
       "\n",
       "             Buchananvirus Sa179lw  Halospina denitrificans   \n",
       "Sample                                                        \n",
       "SRR15595353                    0.0                      0.0  \\\n",
       "SRR15595352                    0.0                      0.0   \n",
       "SRR15595351                    0.0                      0.0   \n",
       "SRR15595350                    0.0                      0.0   \n",
       "SRR15595349                    0.0                      0.0   \n",
       "...                            ...                      ...   \n",
       "SRR15595248                    0.0                      0.0   \n",
       "SRR15595247                    0.0                      0.0   \n",
       "SRR15595246                    0.0                      0.0   \n",
       "SRR15595245                    0.0                      0.0   \n",
       "SRR15595244                    0.0                      0.0   \n",
       "\n",
       "             Dehalogenimonas alkenigignens  Swiduovirus swi2   \n",
       "Sample                                                         \n",
       "SRR15595353                            0.0               0.0  \\\n",
       "SRR15595352                            0.0               0.0   \n",
       "SRR15595351                            0.0               0.0   \n",
       "SRR15595350                            0.0               0.0   \n",
       "SRR15595349                            0.0               0.0   \n",
       "...                                    ...               ...   \n",
       "SRR15595248                            0.0               0.0   \n",
       "SRR15595247                            0.0               0.0   \n",
       "SRR15595246                            0.0               0.0   \n",
       "SRR15595245                            0.0               0.0   \n",
       "SRR15595244                            0.0               0.0   \n",
       "\n",
       "             Shuimuvirus IME207  Akiravirus akira  Pseudohongiella spirulinae  \n",
       "Sample                                                                         \n",
       "SRR15595353                 0.0               0.0                         0.0  \n",
       "SRR15595352                 0.0               0.0                         0.0  \n",
       "SRR15595351                 0.0               0.0                         0.0  \n",
       "SRR15595350                 0.0               0.0                         0.0  \n",
       "SRR15595349                 0.0               0.0                         0.0  \n",
       "...                         ...               ...                         ...  \n",
       "SRR15595248                 0.0               0.0                         0.0  \n",
       "SRR15595247                 0.0               0.0                         0.0  \n",
       "SRR15595246                 0.0               0.0                         0.0  \n",
       "SRR15595245                 0.0               0.0                         0.0  \n",
       "SRR15595244                 0.0               0.0                         0.0  \n",
       "\n",
       "[80 rows x 479 columns]"
      ]
     },
     "execution_count": 47,
     "metadata": {},
     "output_type": "execute_result"
    }
   ],
   "source": [
    "# perform a log transformation on the data\n",
    "X_log = np.log(X + 1)\n",
    "X_log"
   ]
  },
  {
   "cell_type": "markdown",
   "id": "971bf5c1",
   "metadata": {},
   "source": [
    "## Normalize features using sparse matrix"
   ]
  },
  {
   "cell_type": "code",
   "execution_count": 48,
   "id": "5c5f8fe2",
   "metadata": {},
   "outputs": [
    {
     "data": {
      "text/plain": [
       "(80, 479)"
      ]
     },
     "execution_count": 48,
     "metadata": {},
     "output_type": "execute_result"
    }
   ],
   "source": [
    "# Create a sparse matrix representation of the data\n",
    "X_sparse = csr_matrix(X_log)\n",
    "\n",
    "# Scale the data using sparse standardization\n",
    "scaler = StandardScaler(with_mean=False)\n",
    "X_scaled = scaler.fit_transform(X_sparse)\n",
    "X_dense = X_scaled.toarray()\n",
    "X_dense.shape"
   ]
  },
  {
   "cell_type": "markdown",
   "id": "b8d78cfe",
   "metadata": {},
   "source": [
    "# Estimate how many components use for PCA based on explained variance"
   ]
  },
  {
   "cell_type": "markdown",
   "id": "3a4a30bc",
   "metadata": {},
   "source": [
    "## Perform PCA"
   ]
  },
  {
   "cell_type": "code",
   "execution_count": 49,
   "id": "0d135008",
   "metadata": {},
   "outputs": [
    {
     "data": {
      "text/html": [
       "<style>#sk-container-id-5 {color: black;background-color: white;}#sk-container-id-5 pre{padding: 0;}#sk-container-id-5 div.sk-toggleable {background-color: white;}#sk-container-id-5 label.sk-toggleable__label {cursor: pointer;display: block;width: 100%;margin-bottom: 0;padding: 0.3em;box-sizing: border-box;text-align: center;}#sk-container-id-5 label.sk-toggleable__label-arrow:before {content: \"▸\";float: left;margin-right: 0.25em;color: #696969;}#sk-container-id-5 label.sk-toggleable__label-arrow:hover:before {color: black;}#sk-container-id-5 div.sk-estimator:hover label.sk-toggleable__label-arrow:before {color: black;}#sk-container-id-5 div.sk-toggleable__content {max-height: 0;max-width: 0;overflow: hidden;text-align: left;background-color: #f0f8ff;}#sk-container-id-5 div.sk-toggleable__content pre {margin: 0.2em;color: black;border-radius: 0.25em;background-color: #f0f8ff;}#sk-container-id-5 input.sk-toggleable__control:checked~div.sk-toggleable__content {max-height: 200px;max-width: 100%;overflow: auto;}#sk-container-id-5 input.sk-toggleable__control:checked~label.sk-toggleable__label-arrow:before {content: \"▾\";}#sk-container-id-5 div.sk-estimator input.sk-toggleable__control:checked~label.sk-toggleable__label {background-color: #d4ebff;}#sk-container-id-5 div.sk-label input.sk-toggleable__control:checked~label.sk-toggleable__label {background-color: #d4ebff;}#sk-container-id-5 input.sk-hidden--visually {border: 0;clip: rect(1px 1px 1px 1px);clip: rect(1px, 1px, 1px, 1px);height: 1px;margin: -1px;overflow: hidden;padding: 0;position: absolute;width: 1px;}#sk-container-id-5 div.sk-estimator {font-family: monospace;background-color: #f0f8ff;border: 1px dotted black;border-radius: 0.25em;box-sizing: border-box;margin-bottom: 0.5em;}#sk-container-id-5 div.sk-estimator:hover {background-color: #d4ebff;}#sk-container-id-5 div.sk-parallel-item::after {content: \"\";width: 100%;border-bottom: 1px solid gray;flex-grow: 1;}#sk-container-id-5 div.sk-label:hover label.sk-toggleable__label {background-color: #d4ebff;}#sk-container-id-5 div.sk-serial::before {content: \"\";position: absolute;border-left: 1px solid gray;box-sizing: border-box;top: 0;bottom: 0;left: 50%;z-index: 0;}#sk-container-id-5 div.sk-serial {display: flex;flex-direction: column;align-items: center;background-color: white;padding-right: 0.2em;padding-left: 0.2em;position: relative;}#sk-container-id-5 div.sk-item {position: relative;z-index: 1;}#sk-container-id-5 div.sk-parallel {display: flex;align-items: stretch;justify-content: center;background-color: white;position: relative;}#sk-container-id-5 div.sk-item::before, #sk-container-id-5 div.sk-parallel-item::before {content: \"\";position: absolute;border-left: 1px solid gray;box-sizing: border-box;top: 0;bottom: 0;left: 50%;z-index: -1;}#sk-container-id-5 div.sk-parallel-item {display: flex;flex-direction: column;z-index: 1;position: relative;background-color: white;}#sk-container-id-5 div.sk-parallel-item:first-child::after {align-self: flex-end;width: 50%;}#sk-container-id-5 div.sk-parallel-item:last-child::after {align-self: flex-start;width: 50%;}#sk-container-id-5 div.sk-parallel-item:only-child::after {width: 0;}#sk-container-id-5 div.sk-dashed-wrapped {border: 1px dashed gray;margin: 0 0.4em 0.5em 0.4em;box-sizing: border-box;padding-bottom: 0.4em;background-color: white;}#sk-container-id-5 div.sk-label label {font-family: monospace;font-weight: bold;display: inline-block;line-height: 1.2em;}#sk-container-id-5 div.sk-label-container {text-align: center;}#sk-container-id-5 div.sk-container {/* jupyter's `normalize.less` sets `[hidden] { display: none; }` but bootstrap.min.css set `[hidden] { display: none !important; }` so we also need the `!important` here to be able to override the default hidden behavior on the sphinx rendered scikit-learn.org. See: https://github.com/scikit-learn/scikit-learn/issues/21755 */display: inline-block !important;position: relative;}#sk-container-id-5 div.sk-text-repr-fallback {display: none;}</style><div id=\"sk-container-id-5\" class=\"sk-top-container\"><div class=\"sk-text-repr-fallback\"><pre>PCA()</pre><b>In a Jupyter environment, please rerun this cell to show the HTML representation or trust the notebook. <br />On GitHub, the HTML representation is unable to render, please try loading this page with nbviewer.org.</b></div><div class=\"sk-container\" hidden><div class=\"sk-item\"><div class=\"sk-estimator sk-toggleable\"><input class=\"sk-toggleable__control sk-hidden--visually\" id=\"sk-estimator-id-5\" type=\"checkbox\" checked><label for=\"sk-estimator-id-5\" class=\"sk-toggleable__label sk-toggleable__label-arrow\">PCA</label><div class=\"sk-toggleable__content\"><pre>PCA()</pre></div></div></div></div></div>"
      ],
      "text/plain": [
       "PCA()"
      ]
     },
     "execution_count": 49,
     "metadata": {},
     "output_type": "execute_result"
    }
   ],
   "source": [
    "# Perform PCA\n",
    "pca = PCA()\n",
    "pca.fit(X_dense)"
   ]
  },
  {
   "cell_type": "markdown",
   "id": "d2f7db25",
   "metadata": {},
   "source": [
    "## Calculate the explained variance"
   ]
  },
  {
   "cell_type": "code",
   "execution_count": 52,
   "id": "e357d21e",
   "metadata": {},
   "outputs": [
    {
     "data": {
      "text/plain": [
       "array([1.24309632e-01, 7.18247383e-02, 6.98537893e-02, 4.44406836e-02,\n",
       "       4.31878462e-02, 3.90700618e-02, 3.73983020e-02, 3.69175739e-02,\n",
       "       3.60597994e-02, 3.20114817e-02, 3.13116991e-02, 2.98442222e-02,\n",
       "       2.75646825e-02, 2.36327226e-02, 2.20688487e-02, 2.15404056e-02,\n",
       "       2.14733582e-02, 2.03325721e-02, 1.92815968e-02, 1.83716955e-02,\n",
       "       1.77817804e-02, 1.68997478e-02, 1.64945477e-02, 1.49985423e-02,\n",
       "       1.42535902e-02, 1.34317176e-02, 1.26699583e-02, 1.15796473e-02,\n",
       "       1.06490130e-02, 9.38436663e-03, 9.06486291e-03, 8.76145611e-03,\n",
       "       8.74116832e-03, 8.73216728e-03, 7.52591055e-03, 6.61327065e-03,\n",
       "       6.13739224e-03, 5.98074812e-03, 4.99767028e-03, 4.68566607e-03,\n",
       "       3.64894726e-03, 3.24921977e-03, 3.12779934e-03, 2.65244889e-03,\n",
       "       2.12516503e-03, 1.76801731e-03, 1.52662255e-03, 9.26455617e-04,\n",
       "       5.17421147e-04, 2.94918641e-04, 1.23947447e-04, 5.21570699e-05,\n",
       "       4.46336594e-05, 3.32918124e-05, 1.79746912e-05, 6.52846309e-06,\n",
       "       4.04065073e-06, 9.38700722e-07, 3.41796049e-07, 1.35943559e-07,\n",
       "       3.68205777e-08, 2.23359949e-08, 2.45157521e-32, 7.95390470e-33,\n",
       "       1.11167520e-33, 1.11167520e-33, 1.11167520e-33, 1.11167520e-33,\n",
       "       1.11167520e-33, 1.11167520e-33, 1.11167520e-33, 1.11167520e-33,\n",
       "       1.11167520e-33, 1.11167520e-33, 1.11167520e-33, 1.11167520e-33,\n",
       "       1.11167520e-33, 1.11167520e-33, 1.11167520e-33, 3.82033262e-34])"
      ]
     },
     "execution_count": 52,
     "metadata": {},
     "output_type": "execute_result"
    }
   ],
   "source": [
    "explained_variance = pca.explained_variance_ratio_\n",
    "cumulative_explained_variance = np.cumsum(explained_variance)\n",
    "cumulative_explained_variance\n",
    "explained_variance"
   ]
  },
  {
   "cell_type": "markdown",
   "id": "324d480f",
   "metadata": {},
   "source": [
    "## Plot the cumulative explained variance"
   ]
  },
  {
   "cell_type": "code",
   "execution_count": 51,
   "id": "11ef3c00",
   "metadata": {},
   "outputs": [
    {
     "data": {
      "image/png": "[encoded data removed]",
      "text/plain": [
       "<Figure size 900x600 with 1 Axes>"
      ]
     },
     "metadata": {
      "needs_background": "light"
     },
     "output_type": "display_data"
    }
   ],
   "source": [
    "fig = plt.figure(dpi=150)\n",
    "plt.plot(range(1, len(cumulative_explained_variance) + 1), cumulative_explained_variance)\n",
    "plt.title('Cumulative Explained Variance')\n",
    "plt.xlabel('Number of Principal Components')\n",
    "plt.ylabel('Cumulative Explained Variance')\n",
    "plt.show()"
   ]
  },
  {
   "cell_type": "markdown",
   "id": "dbd27063",
   "metadata": {},
   "source": [
    "# Run models on transformed features"
   ]
  },
  {
   "cell_type": "markdown",
   "id": "aae8c6aa",
   "metadata": {},
   "source": [
    "## Instantiate PCA with the desired number of principal components from the previous section and split the data"
   ]
  },
  {
   "cell_type": "code",
   "execution_count": 32,
   "id": "21107725",
   "metadata": {},
   "outputs": [],
   "source": [
    "n_components = 10\n",
    "pca = PCA(n_components=n_components)\n",
    "\n",
    "# Fit and transform data\n",
    "pca.fit(X_dense)\n",
    "transformed = pca.transform(X_dense)\n",
    "# Split data into training and testing sets\n",
    "X_train, X_test, y_train, y_test = train_test_split(transformed, y, test_size=0.3, random_state=42)"
   ]
  },
  {
   "cell_type": "markdown",
   "id": "f2fe9b2c",
   "metadata": {},
   "source": [
    "## Logistic Regression"
   ]
  },
  {
   "cell_type": "code",
   "execution_count": 33,
   "id": "c1948bba",
   "metadata": {},
   "outputs": [
    {
     "name": "stdout",
     "output_type": "stream",
     "text": [
      "Accuracy: 0.4166666666666667\n"
     ]
    }
   ],
   "source": [
    "# Fit logistic regression model\n",
    "model = LogisticRegression()\n",
    "model.fit(X_train, y_train)\n",
    "\n",
    "# Make predictions on the testing set\n",
    "y_pred = model.predict(X_test)\n",
    "\n",
    "# Calculate accuracy score\n",
    "accuracy = accuracy_score(y_test, y_pred)\n",
    "print('Accuracy:', accuracy)"
   ]
  },
  {
   "cell_type": "markdown",
   "id": "7aa4b988",
   "metadata": {},
   "source": [
    "## SVM"
   ]
  },
  {
   "cell_type": "markdown",
   "id": "b0ba0744",
   "metadata": {},
   "source": [
    "### linear kernel"
   ]
  },
  {
   "cell_type": "code",
   "execution_count": 34,
   "id": "2a971097",
   "metadata": {},
   "outputs": [
    {
     "name": "stdout",
     "output_type": "stream",
     "text": [
      "Accuracy: 0.3333333333333333\n"
     ]
    }
   ],
   "source": [
    "# Fit SVM model\n",
    "model = SVC(kernel='linear')\n",
    "model.fit(X_train, y_train)\n",
    "\n",
    "# Make predictions on the testing set\n",
    "y_pred = model.predict(X_test)\n",
    "\n",
    "# Calculate accuracy score\n",
    "accuracy = accuracy_score(y_test, y_pred)\n",
    "print('Accuracy:', accuracy)"
   ]
  },
  {
   "cell_type": "code",
   "execution_count": null,
   "id": "b7789f30",
   "metadata": {},
   "outputs": [],
   "source": []
  }
 ],
 "metadata": {
  "kernelspec": {
   "display_name": "rp",
   "language": "python",
   "name": "rp"
  },
  "language_info": {
   "codemirror_mode": {
    "name": "ipython",
    "version": 3
   },
   "file_extension": ".py",
   "mimetype": "text/x-python",
   "name": "python",
   "nbconvert_exporter": "python",
   "pygments_lexer": "ipython3",
   "version": "3.11.3"
  }
 },
 "nbformat": 4,
 "nbformat_minor": 5
}
