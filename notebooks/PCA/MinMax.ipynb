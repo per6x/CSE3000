{
 "cells": [
  {
   "cell_type": "code",
   "execution_count": 325,
   "id": "d7547246",
   "metadata": {},
   "outputs": [],
   "source": [
    "import pandas as pd\n",
    "import numpy as np\n",
    "import matplotlib.pyplot as plt\n",
    "from sklearn.decomposition import PCA\n",
    "from sklearn import preprocessing \n",
    "from sklearn.linear_model import LogisticRegression, LinearRegression\n",
    "from sklearn.model_selection import train_test_split, GridSearchCV\n",
    "from sklearn.metrics import accuracy_score, confusion_matrix, ConfusionMatrixDisplay\n",
    "from sklearn.svm import SVC\n",
    "from sklearn.ensemble import RandomForestClassifier"
   ]
  },
  {
   "cell_type": "markdown",
   "id": "d8ab56d5",
   "metadata": {},
   "source": [
    "### Load metadata"
   ]
  },
  {
   "cell_type": "code",
   "execution_count": 326,
   "id": "9776b8b0",
   "metadata": {},
   "outputs": [],
   "source": [
    "metadata = pd.read_csv(\"../../metadata.csv\", sep=\";\")"
   ]
  },
  {
   "cell_type": "markdown",
   "id": "490a9833",
   "metadata": {},
   "source": [
    "### Load features and labels"
   ]
  },
  {
   "cell_type": "code",
   "execution_count": 327,
   "id": "f58a3742",
   "metadata": {},
   "outputs": [],
   "source": [
    "X = pd.read_csv(\"../../taxonomy/species_data.csv\", sep=\";\").set_index(\"Sample\", drop=True)\n",
    "y = pd.read_csv(\"../../labels.csv\", sep=\";\").set_index(\"Sample\", drop=True)"
   ]
  },
  {
   "cell_type": "code",
   "execution_count": 328,
   "id": "87e5d6e7",
   "metadata": {},
   "outputs": [],
   "source": [
    "X = X.drop(\"Gorilla gorilla\", axis=1)\n",
    "X = X.drop(\"Homo sapiens\", axis=1)"
   ]
  },
  {
   "cell_type": "markdown",
   "id": "1647ff60",
   "metadata": {},
   "source": [
    "### Select only 1 of 2 datasets"
   ]
  },
  {
   "cell_type": "code",
   "execution_count": 329,
   "id": "2152812e",
   "metadata": {},
   "outputs": [],
   "source": [
    "X = X.loc[metadata[metadata[\"BioProject\"] == \"PRJNA757365\"][\"Run\"]]\n",
    "y = y.loc[metadata[metadata[\"BioProject\"] == \"PRJNA757365\"][\"Run\"]][\"Label\"]"
   ]
  },
  {
   "cell_type": "markdown",
   "id": "0d9cfe48",
   "metadata": {},
   "source": [
    "## log transformation"
   ]
  },
  {
   "cell_type": "code",
   "execution_count": 330,
   "id": "5f439808",
   "metadata": {},
   "outputs": [
    {
     "data": {
      "text/html": [
       "<div>\n",
       "<style scoped>\n",
       "    .dataframe tbody tr th:only-of-type {\n",
       "        vertical-align: middle;\n",
       "    }\n",
       "\n",
       "    .dataframe tbody tr th {\n",
       "        vertical-align: top;\n",
       "    }\n",
       "\n",
       "    .dataframe thead th {\n",
       "        text-align: right;\n",
       "    }\n",
       "</style>\n",
       "<table border=\"1\" class=\"dataframe\">\n",
       "  <thead>\n",
       "    <tr style=\"text-align: right;\">\n",
       "      <th></th>\n",
       "      <th>Saccharomyces cerevisiae</th>\n",
       "      <th>Chryseobacterium sp. LAM-KRS1</th>\n",
       "      <th>Pongo abelii</th>\n",
       "      <th>Mangifera indica</th>\n",
       "      <th>Cyprinus carpio</th>\n",
       "      <th>Hylobates moloch</th>\n",
       "      <th>Pipra filicauda</th>\n",
       "      <th>Pan troglodytes</th>\n",
       "      <th>Musa acuminata</th>\n",
       "      <th>Brassica napus</th>\n",
       "      <th>...</th>\n",
       "      <th>Methylonatrum kenyense</th>\n",
       "      <th>Candidatus Nardonella dryophthoridicola</th>\n",
       "      <th>Wohlfahrtiimonas larvae</th>\n",
       "      <th>Buchananvirus Sa179lw</th>\n",
       "      <th>Halospina denitrificans</th>\n",
       "      <th>Dehalogenimonas alkenigignens</th>\n",
       "      <th>Swiduovirus swi2</th>\n",
       "      <th>Shuimuvirus IME207</th>\n",
       "      <th>Akiravirus akira</th>\n",
       "      <th>Pseudohongiella spirulinae</th>\n",
       "    </tr>\n",
       "    <tr>\n",
       "      <th>Sample</th>\n",
       "      <th></th>\n",
       "      <th></th>\n",
       "      <th></th>\n",
       "      <th></th>\n",
       "      <th></th>\n",
       "      <th></th>\n",
       "      <th></th>\n",
       "      <th></th>\n",
       "      <th></th>\n",
       "      <th></th>\n",
       "      <th></th>\n",
       "      <th></th>\n",
       "      <th></th>\n",
       "      <th></th>\n",
       "      <th></th>\n",
       "      <th></th>\n",
       "      <th></th>\n",
       "      <th></th>\n",
       "      <th></th>\n",
       "      <th></th>\n",
       "      <th></th>\n",
       "    </tr>\n",
       "  </thead>\n",
       "  <tbody>\n",
       "    <tr>\n",
       "      <th>SRR15595353</th>\n",
       "      <td>0.000000</td>\n",
       "      <td>0.0</td>\n",
       "      <td>9.183380</td>\n",
       "      <td>0.0</td>\n",
       "      <td>0.000000</td>\n",
       "      <td>0.0</td>\n",
       "      <td>0.0</td>\n",
       "      <td>9.354527</td>\n",
       "      <td>0.000000</td>\n",
       "      <td>0.0</td>\n",
       "      <td>...</td>\n",
       "      <td>0.0</td>\n",
       "      <td>0.0</td>\n",
       "      <td>0.0</td>\n",
       "      <td>0.0</td>\n",
       "      <td>0.0</td>\n",
       "      <td>0.0</td>\n",
       "      <td>0.0</td>\n",
       "      <td>0.0</td>\n",
       "      <td>0.0</td>\n",
       "      <td>0.0</td>\n",
       "    </tr>\n",
       "    <tr>\n",
       "      <th>SRR15595352</th>\n",
       "      <td>0.000000</td>\n",
       "      <td>0.0</td>\n",
       "      <td>9.167224</td>\n",
       "      <td>0.0</td>\n",
       "      <td>0.000000</td>\n",
       "      <td>0.0</td>\n",
       "      <td>0.0</td>\n",
       "      <td>9.356430</td>\n",
       "      <td>0.000000</td>\n",
       "      <td>0.0</td>\n",
       "      <td>...</td>\n",
       "      <td>0.0</td>\n",
       "      <td>0.0</td>\n",
       "      <td>0.0</td>\n",
       "      <td>0.0</td>\n",
       "      <td>0.0</td>\n",
       "      <td>0.0</td>\n",
       "      <td>0.0</td>\n",
       "      <td>0.0</td>\n",
       "      <td>0.0</td>\n",
       "      <td>0.0</td>\n",
       "    </tr>\n",
       "    <tr>\n",
       "      <th>SRR15595351</th>\n",
       "      <td>0.000000</td>\n",
       "      <td>0.0</td>\n",
       "      <td>9.595875</td>\n",
       "      <td>0.0</td>\n",
       "      <td>0.000000</td>\n",
       "      <td>0.0</td>\n",
       "      <td>0.0</td>\n",
       "      <td>9.810988</td>\n",
       "      <td>0.000000</td>\n",
       "      <td>0.0</td>\n",
       "      <td>...</td>\n",
       "      <td>0.0</td>\n",
       "      <td>0.0</td>\n",
       "      <td>0.0</td>\n",
       "      <td>0.0</td>\n",
       "      <td>0.0</td>\n",
       "      <td>0.0</td>\n",
       "      <td>0.0</td>\n",
       "      <td>0.0</td>\n",
       "      <td>0.0</td>\n",
       "      <td>0.0</td>\n",
       "    </tr>\n",
       "    <tr>\n",
       "      <th>SRR15595350</th>\n",
       "      <td>0.000000</td>\n",
       "      <td>0.0</td>\n",
       "      <td>0.000000</td>\n",
       "      <td>0.0</td>\n",
       "      <td>0.693147</td>\n",
       "      <td>0.0</td>\n",
       "      <td>0.0</td>\n",
       "      <td>0.000000</td>\n",
       "      <td>0.000000</td>\n",
       "      <td>0.0</td>\n",
       "      <td>...</td>\n",
       "      <td>0.0</td>\n",
       "      <td>0.0</td>\n",
       "      <td>0.0</td>\n",
       "      <td>0.0</td>\n",
       "      <td>0.0</td>\n",
       "      <td>0.0</td>\n",
       "      <td>0.0</td>\n",
       "      <td>0.0</td>\n",
       "      <td>0.0</td>\n",
       "      <td>0.0</td>\n",
       "    </tr>\n",
       "    <tr>\n",
       "      <th>SRR15595349</th>\n",
       "      <td>0.000000</td>\n",
       "      <td>0.0</td>\n",
       "      <td>9.355133</td>\n",
       "      <td>0.0</td>\n",
       "      <td>0.000000</td>\n",
       "      <td>0.0</td>\n",
       "      <td>0.0</td>\n",
       "      <td>9.739791</td>\n",
       "      <td>0.000000</td>\n",
       "      <td>0.0</td>\n",
       "      <td>...</td>\n",
       "      <td>0.0</td>\n",
       "      <td>0.0</td>\n",
       "      <td>0.0</td>\n",
       "      <td>0.0</td>\n",
       "      <td>0.0</td>\n",
       "      <td>0.0</td>\n",
       "      <td>0.0</td>\n",
       "      <td>0.0</td>\n",
       "      <td>0.0</td>\n",
       "      <td>0.0</td>\n",
       "    </tr>\n",
       "    <tr>\n",
       "      <th>...</th>\n",
       "      <td>...</td>\n",
       "      <td>...</td>\n",
       "      <td>...</td>\n",
       "      <td>...</td>\n",
       "      <td>...</td>\n",
       "      <td>...</td>\n",
       "      <td>...</td>\n",
       "      <td>...</td>\n",
       "      <td>...</td>\n",
       "      <td>...</td>\n",
       "      <td>...</td>\n",
       "      <td>...</td>\n",
       "      <td>...</td>\n",
       "      <td>...</td>\n",
       "      <td>...</td>\n",
       "      <td>...</td>\n",
       "      <td>...</td>\n",
       "      <td>...</td>\n",
       "      <td>...</td>\n",
       "      <td>...</td>\n",
       "      <td>...</td>\n",
       "    </tr>\n",
       "    <tr>\n",
       "      <th>SRR15595248</th>\n",
       "      <td>0.000000</td>\n",
       "      <td>0.0</td>\n",
       "      <td>0.000000</td>\n",
       "      <td>0.0</td>\n",
       "      <td>0.000000</td>\n",
       "      <td>0.0</td>\n",
       "      <td>0.0</td>\n",
       "      <td>0.000000</td>\n",
       "      <td>0.000000</td>\n",
       "      <td>0.0</td>\n",
       "      <td>...</td>\n",
       "      <td>0.0</td>\n",
       "      <td>0.0</td>\n",
       "      <td>0.0</td>\n",
       "      <td>0.0</td>\n",
       "      <td>0.0</td>\n",
       "      <td>0.0</td>\n",
       "      <td>0.0</td>\n",
       "      <td>0.0</td>\n",
       "      <td>0.0</td>\n",
       "      <td>0.0</td>\n",
       "    </tr>\n",
       "    <tr>\n",
       "      <th>SRR15595247</th>\n",
       "      <td>0.000000</td>\n",
       "      <td>0.0</td>\n",
       "      <td>9.419060</td>\n",
       "      <td>0.0</td>\n",
       "      <td>0.000000</td>\n",
       "      <td>0.0</td>\n",
       "      <td>0.0</td>\n",
       "      <td>9.521275</td>\n",
       "      <td>0.000000</td>\n",
       "      <td>0.0</td>\n",
       "      <td>...</td>\n",
       "      <td>0.0</td>\n",
       "      <td>0.0</td>\n",
       "      <td>0.0</td>\n",
       "      <td>0.0</td>\n",
       "      <td>0.0</td>\n",
       "      <td>0.0</td>\n",
       "      <td>0.0</td>\n",
       "      <td>0.0</td>\n",
       "      <td>0.0</td>\n",
       "      <td>0.0</td>\n",
       "    </tr>\n",
       "    <tr>\n",
       "      <th>SRR15595246</th>\n",
       "      <td>3.091042</td>\n",
       "      <td>0.0</td>\n",
       "      <td>0.000000</td>\n",
       "      <td>0.0</td>\n",
       "      <td>0.693147</td>\n",
       "      <td>0.0</td>\n",
       "      <td>0.0</td>\n",
       "      <td>0.000000</td>\n",
       "      <td>0.000000</td>\n",
       "      <td>0.0</td>\n",
       "      <td>...</td>\n",
       "      <td>0.0</td>\n",
       "      <td>0.0</td>\n",
       "      <td>0.0</td>\n",
       "      <td>0.0</td>\n",
       "      <td>0.0</td>\n",
       "      <td>0.0</td>\n",
       "      <td>0.0</td>\n",
       "      <td>0.0</td>\n",
       "      <td>0.0</td>\n",
       "      <td>0.0</td>\n",
       "    </tr>\n",
       "    <tr>\n",
       "      <th>SRR15595245</th>\n",
       "      <td>0.000000</td>\n",
       "      <td>0.0</td>\n",
       "      <td>0.000000</td>\n",
       "      <td>0.0</td>\n",
       "      <td>0.693147</td>\n",
       "      <td>0.0</td>\n",
       "      <td>0.0</td>\n",
       "      <td>0.000000</td>\n",
       "      <td>3.583519</td>\n",
       "      <td>0.0</td>\n",
       "      <td>...</td>\n",
       "      <td>0.0</td>\n",
       "      <td>0.0</td>\n",
       "      <td>0.0</td>\n",
       "      <td>0.0</td>\n",
       "      <td>0.0</td>\n",
       "      <td>0.0</td>\n",
       "      <td>0.0</td>\n",
       "      <td>0.0</td>\n",
       "      <td>0.0</td>\n",
       "      <td>0.0</td>\n",
       "    </tr>\n",
       "    <tr>\n",
       "      <th>SRR15595244</th>\n",
       "      <td>0.000000</td>\n",
       "      <td>0.0</td>\n",
       "      <td>0.000000</td>\n",
       "      <td>0.0</td>\n",
       "      <td>0.693147</td>\n",
       "      <td>0.0</td>\n",
       "      <td>0.0</td>\n",
       "      <td>0.000000</td>\n",
       "      <td>0.000000</td>\n",
       "      <td>0.0</td>\n",
       "      <td>...</td>\n",
       "      <td>0.0</td>\n",
       "      <td>0.0</td>\n",
       "      <td>0.0</td>\n",
       "      <td>0.0</td>\n",
       "      <td>0.0</td>\n",
       "      <td>0.0</td>\n",
       "      <td>0.0</td>\n",
       "      <td>0.0</td>\n",
       "      <td>0.0</td>\n",
       "      <td>0.0</td>\n",
       "    </tr>\n",
       "  </tbody>\n",
       "</table>\n",
       "<p>80 rows × 477 columns</p>\n",
       "</div>"
      ],
      "text/plain": [
       "             Saccharomyces cerevisiae  Chryseobacterium sp. LAM-KRS1   \n",
       "Sample                                                                 \n",
       "SRR15595353                  0.000000                            0.0  \\\n",
       "SRR15595352                  0.000000                            0.0   \n",
       "SRR15595351                  0.000000                            0.0   \n",
       "SRR15595350                  0.000000                            0.0   \n",
       "SRR15595349                  0.000000                            0.0   \n",
       "...                               ...                            ...   \n",
       "SRR15595248                  0.000000                            0.0   \n",
       "SRR15595247                  0.000000                            0.0   \n",
       "SRR15595246                  3.091042                            0.0   \n",
       "SRR15595245                  0.000000                            0.0   \n",
       "SRR15595244                  0.000000                            0.0   \n",
       "\n",
       "             Pongo abelii  Mangifera indica  Cyprinus carpio   \n",
       "Sample                                                         \n",
       "SRR15595353      9.183380               0.0         0.000000  \\\n",
       "SRR15595352      9.167224               0.0         0.000000   \n",
       "SRR15595351      9.595875               0.0         0.000000   \n",
       "SRR15595350      0.000000               0.0         0.693147   \n",
       "SRR15595349      9.355133               0.0         0.000000   \n",
       "...                   ...               ...              ...   \n",
       "SRR15595248      0.000000               0.0         0.000000   \n",
       "SRR15595247      9.419060               0.0         0.000000   \n",
       "SRR15595246      0.000000               0.0         0.693147   \n",
       "SRR15595245      0.000000               0.0         0.693147   \n",
       "SRR15595244      0.000000               0.0         0.693147   \n",
       "\n",
       "             Hylobates moloch  Pipra filicauda  Pan troglodytes   \n",
       "Sample                                                            \n",
       "SRR15595353               0.0              0.0         9.354527  \\\n",
       "SRR15595352               0.0              0.0         9.356430   \n",
       "SRR15595351               0.0              0.0         9.810988   \n",
       "SRR15595350               0.0              0.0         0.000000   \n",
       "SRR15595349               0.0              0.0         9.739791   \n",
       "...                       ...              ...              ...   \n",
       "SRR15595248               0.0              0.0         0.000000   \n",
       "SRR15595247               0.0              0.0         9.521275   \n",
       "SRR15595246               0.0              0.0         0.000000   \n",
       "SRR15595245               0.0              0.0         0.000000   \n",
       "SRR15595244               0.0              0.0         0.000000   \n",
       "\n",
       "             Musa acuminata  Brassica napus  ...  Methylonatrum kenyense   \n",
       "Sample                                       ...                           \n",
       "SRR15595353        0.000000             0.0  ...                     0.0  \\\n",
       "SRR15595352        0.000000             0.0  ...                     0.0   \n",
       "SRR15595351        0.000000             0.0  ...                     0.0   \n",
       "SRR15595350        0.000000             0.0  ...                     0.0   \n",
       "SRR15595349        0.000000             0.0  ...                     0.0   \n",
       "...                     ...             ...  ...                     ...   \n",
       "SRR15595248        0.000000             0.0  ...                     0.0   \n",
       "SRR15595247        0.000000             0.0  ...                     0.0   \n",
       "SRR15595246        0.000000             0.0  ...                     0.0   \n",
       "SRR15595245        3.583519             0.0  ...                     0.0   \n",
       "SRR15595244        0.000000             0.0  ...                     0.0   \n",
       "\n",
       "             Candidatus Nardonella dryophthoridicola  Wohlfahrtiimonas larvae   \n",
       "Sample                                                                          \n",
       "SRR15595353                                      0.0                      0.0  \\\n",
       "SRR15595352                                      0.0                      0.0   \n",
       "SRR15595351                                      0.0                      0.0   \n",
       "SRR15595350                                      0.0                      0.0   \n",
       "SRR15595349                                      0.0                      0.0   \n",
       "...                                              ...                      ...   \n",
       "SRR15595248                                      0.0                      0.0   \n",
       "SRR15595247                                      0.0                      0.0   \n",
       "SRR15595246                                      0.0                      0.0   \n",
       "SRR15595245                                      0.0                      0.0   \n",
       "SRR15595244                                      0.0                      0.0   \n",
       "\n",
       "             Buchananvirus Sa179lw  Halospina denitrificans   \n",
       "Sample                                                        \n",
       "SRR15595353                    0.0                      0.0  \\\n",
       "SRR15595352                    0.0                      0.0   \n",
       "SRR15595351                    0.0                      0.0   \n",
       "SRR15595350                    0.0                      0.0   \n",
       "SRR15595349                    0.0                      0.0   \n",
       "...                            ...                      ...   \n",
       "SRR15595248                    0.0                      0.0   \n",
       "SRR15595247                    0.0                      0.0   \n",
       "SRR15595246                    0.0                      0.0   \n",
       "SRR15595245                    0.0                      0.0   \n",
       "SRR15595244                    0.0                      0.0   \n",
       "\n",
       "             Dehalogenimonas alkenigignens  Swiduovirus swi2   \n",
       "Sample                                                         \n",
       "SRR15595353                            0.0               0.0  \\\n",
       "SRR15595352                            0.0               0.0   \n",
       "SRR15595351                            0.0               0.0   \n",
       "SRR15595350                            0.0               0.0   \n",
       "SRR15595349                            0.0               0.0   \n",
       "...                                    ...               ...   \n",
       "SRR15595248                            0.0               0.0   \n",
       "SRR15595247                            0.0               0.0   \n",
       "SRR15595246                            0.0               0.0   \n",
       "SRR15595245                            0.0               0.0   \n",
       "SRR15595244                            0.0               0.0   \n",
       "\n",
       "             Shuimuvirus IME207  Akiravirus akira  Pseudohongiella spirulinae  \n",
       "Sample                                                                         \n",
       "SRR15595353                 0.0               0.0                         0.0  \n",
       "SRR15595352                 0.0               0.0                         0.0  \n",
       "SRR15595351                 0.0               0.0                         0.0  \n",
       "SRR15595350                 0.0               0.0                         0.0  \n",
       "SRR15595349                 0.0               0.0                         0.0  \n",
       "...                         ...               ...                         ...  \n",
       "SRR15595248                 0.0               0.0                         0.0  \n",
       "SRR15595247                 0.0               0.0                         0.0  \n",
       "SRR15595246                 0.0               0.0                         0.0  \n",
       "SRR15595245                 0.0               0.0                         0.0  \n",
       "SRR15595244                 0.0               0.0                         0.0  \n",
       "\n",
       "[80 rows x 477 columns]"
      ]
     },
     "execution_count": 330,
     "metadata": {},
     "output_type": "execute_result"
    }
   ],
   "source": [
    "# perform a log transformation on the data\n",
    "X_log = np.log(X + 1)\n",
    "X_log"
   ]
  },
  {
   "cell_type": "markdown",
   "id": "bfee3374",
   "metadata": {},
   "source": [
    "## Normalize features using min-max"
   ]
  },
  {
   "cell_type": "code",
   "execution_count": 331,
   "id": "54055698",
   "metadata": {},
   "outputs": [
    {
     "data": {
      "text/plain": [
       "(80, 477)"
      ]
     },
     "execution_count": 331,
     "metadata": {},
     "output_type": "execute_result"
    }
   ],
   "source": [
    "min_max_scaler = preprocessing.MinMaxScaler()\n",
    "X_norm = min_max_scaler.fit_transform(X_log)\n",
    "X_norm.shape"
   ]
  },
  {
   "cell_type": "markdown",
   "id": "bfb6f000",
   "metadata": {},
   "source": [
    "# Estimate how many components use for PCA based on explained variance"
   ]
  },
  {
   "cell_type": "markdown",
   "id": "d2b6cb8a",
   "metadata": {},
   "source": [
    "## Perform PCA"
   ]
  },
  {
   "cell_type": "code",
   "execution_count": 332,
   "id": "09ed2117",
   "metadata": {},
   "outputs": [
    {
     "data": {
      "text/html": [
       "<style>#sk-container-id-11 {color: black;background-color: white;}#sk-container-id-11 pre{padding: 0;}#sk-container-id-11 div.sk-toggleable {background-color: white;}#sk-container-id-11 label.sk-toggleable__label {cursor: pointer;display: block;width: 100%;margin-bottom: 0;padding: 0.3em;box-sizing: border-box;text-align: center;}#sk-container-id-11 label.sk-toggleable__label-arrow:before {content: \"▸\";float: left;margin-right: 0.25em;color: #696969;}#sk-container-id-11 label.sk-toggleable__label-arrow:hover:before {color: black;}#sk-container-id-11 div.sk-estimator:hover label.sk-toggleable__label-arrow:before {color: black;}#sk-container-id-11 div.sk-toggleable__content {max-height: 0;max-width: 0;overflow: hidden;text-align: left;background-color: #f0f8ff;}#sk-container-id-11 div.sk-toggleable__content pre {margin: 0.2em;color: black;border-radius: 0.25em;background-color: #f0f8ff;}#sk-container-id-11 input.sk-toggleable__control:checked~div.sk-toggleable__content {max-height: 200px;max-width: 100%;overflow: auto;}#sk-container-id-11 input.sk-toggleable__control:checked~label.sk-toggleable__label-arrow:before {content: \"▾\";}#sk-container-id-11 div.sk-estimator input.sk-toggleable__control:checked~label.sk-toggleable__label {background-color: #d4ebff;}#sk-container-id-11 div.sk-label input.sk-toggleable__control:checked~label.sk-toggleable__label {background-color: #d4ebff;}#sk-container-id-11 input.sk-hidden--visually {border: 0;clip: rect(1px 1px 1px 1px);clip: rect(1px, 1px, 1px, 1px);height: 1px;margin: -1px;overflow: hidden;padding: 0;position: absolute;width: 1px;}#sk-container-id-11 div.sk-estimator {font-family: monospace;background-color: #f0f8ff;border: 1px dotted black;border-radius: 0.25em;box-sizing: border-box;margin-bottom: 0.5em;}#sk-container-id-11 div.sk-estimator:hover {background-color: #d4ebff;}#sk-container-id-11 div.sk-parallel-item::after {content: \"\";width: 100%;border-bottom: 1px solid gray;flex-grow: 1;}#sk-container-id-11 div.sk-label:hover label.sk-toggleable__label {background-color: #d4ebff;}#sk-container-id-11 div.sk-serial::before {content: \"\";position: absolute;border-left: 1px solid gray;box-sizing: border-box;top: 0;bottom: 0;left: 50%;z-index: 0;}#sk-container-id-11 div.sk-serial {display: flex;flex-direction: column;align-items: center;background-color: white;padding-right: 0.2em;padding-left: 0.2em;position: relative;}#sk-container-id-11 div.sk-item {position: relative;z-index: 1;}#sk-container-id-11 div.sk-parallel {display: flex;align-items: stretch;justify-content: center;background-color: white;position: relative;}#sk-container-id-11 div.sk-item::before, #sk-container-id-11 div.sk-parallel-item::before {content: \"\";position: absolute;border-left: 1px solid gray;box-sizing: border-box;top: 0;bottom: 0;left: 50%;z-index: -1;}#sk-container-id-11 div.sk-parallel-item {display: flex;flex-direction: column;z-index: 1;position: relative;background-color: white;}#sk-container-id-11 div.sk-parallel-item:first-child::after {align-self: flex-end;width: 50%;}#sk-container-id-11 div.sk-parallel-item:last-child::after {align-self: flex-start;width: 50%;}#sk-container-id-11 div.sk-parallel-item:only-child::after {width: 0;}#sk-container-id-11 div.sk-dashed-wrapped {border: 1px dashed gray;margin: 0 0.4em 0.5em 0.4em;box-sizing: border-box;padding-bottom: 0.4em;background-color: white;}#sk-container-id-11 div.sk-label label {font-family: monospace;font-weight: bold;display: inline-block;line-height: 1.2em;}#sk-container-id-11 div.sk-label-container {text-align: center;}#sk-container-id-11 div.sk-container {/* jupyter's `normalize.less` sets `[hidden] { display: none; }` but bootstrap.min.css set `[hidden] { display: none !important; }` so we also need the `!important` here to be able to override the default hidden behavior on the sphinx rendered scikit-learn.org. See: https://github.com/scikit-learn/scikit-learn/issues/21755 */display: inline-block !important;position: relative;}#sk-container-id-11 div.sk-text-repr-fallback {display: none;}</style><div id=\"sk-container-id-11\" class=\"sk-top-container\"><div class=\"sk-text-repr-fallback\"><pre>PCA()</pre><b>In a Jupyter environment, please rerun this cell to show the HTML representation or trust the notebook. <br />On GitHub, the HTML representation is unable to render, please try loading this page with nbviewer.org.</b></div><div class=\"sk-container\" hidden><div class=\"sk-item\"><div class=\"sk-estimator sk-toggleable\"><input class=\"sk-toggleable__control sk-hidden--visually\" id=\"sk-estimator-id-11\" type=\"checkbox\" checked><label for=\"sk-estimator-id-11\" class=\"sk-toggleable__label sk-toggleable__label-arrow\">PCA</label><div class=\"sk-toggleable__content\"><pre>PCA()</pre></div></div></div></div></div>"
      ],
      "text/plain": [
       "PCA()"
      ]
     },
     "execution_count": 332,
     "metadata": {},
     "output_type": "execute_result"
    }
   ],
   "source": [
    "# Perform PCA\n",
    "pca = PCA()\n",
    "pca.fit(X_norm)"
   ]
  },
  {
   "cell_type": "markdown",
   "id": "20d99d9d",
   "metadata": {},
   "source": [
    "## Calculate the explained variance and Plot the cumulative explained variance"
   ]
  },
  {
   "cell_type": "code",
   "execution_count": 333,
   "id": "af34b894",
   "metadata": {},
   "outputs": [
    {
     "data": {
      "image/png": "[encoded data removed]",
      "text/plain": [
       "<Figure size 900x600 with 1 Axes>"
      ]
     },
     "metadata": {
      "needs_background": "light"
     },
     "output_type": "display_data"
    }
   ],
   "source": [
    "explained_variance = pca.explained_variance_ratio_\n",
    "cumulative_explained_variance = np.cumsum(explained_variance)\n",
    "fig = plt.figure(dpi=150)\n",
    "plt.plot(range(1, len(cumulative_explained_variance) + 1), cumulative_explained_variance)\n",
    "plt.title('Cumulative Explained Variance')\n",
    "plt.xlabel('Number of Principal Components')\n",
    "plt.ylabel('Cumulative Explained Variance')\n",
    "plt.show()"
   ]
  },
  {
   "cell_type": "markdown",
   "id": "3b95d1b4",
   "metadata": {},
   "source": [
    "# Run models on transformed features"
   ]
  },
  {
   "cell_type": "markdown",
   "id": "466c8952",
   "metadata": {},
   "source": [
    "## Instantiate PCA with the desired number of principal components from the previous section and split the data"
   ]
  },
  {
   "cell_type": "code",
   "execution_count": 334,
   "id": "d9e87157",
   "metadata": {},
   "outputs": [],
   "source": [
    "n_components = 1\n",
    "pca = PCA(n_components=n_components)\n",
    "\n",
    "# Fit and transform data\n",
    "pca.fit(X_norm)\n",
    "transformed = pca.transform(X_norm)\n",
    "# Split data into training and testing sets\n",
    "X_train, X_test, y_train, y_test = train_test_split(transformed, y, test_size=0.3, random_state=42)"
   ]
  },
  {
   "cell_type": "markdown",
   "id": "ceb18da8",
   "metadata": {},
   "source": [
    "## Random Forest"
   ]
  },
  {
   "cell_type": "markdown",
   "id": "42c0ba2e",
   "metadata": {},
   "source": [
    "### Grid search RF"
   ]
  },
  {
   "cell_type": "code",
   "execution_count": 341,
   "id": "af4f478f",
   "metadata": {},
   "outputs": [
    {
     "data": {
      "text/plain": [
       "{'criterion': 'gini', 'max_features': 'sqrt', 'n_estimators': 250}"
      ]
     },
     "execution_count": 341,
     "metadata": {},
     "output_type": "execute_result"
    }
   ],
   "source": [
    "param_grid = { \n",
    "    'n_estimators': [50, 100, 150, 200, 250],\n",
    "    'max_features': ['sqrt', 'log2', None],\n",
    "    'criterion' :['gini', 'entropy', 'log_loss']\n",
    "}\n",
    "\n",
    "rfc = RandomForestClassifier(random_state=42)\n",
    "\n",
    "CV_rfc = GridSearchCV(estimator=rfc, param_grid=param_grid, cv=5, n_jobs=-1)\n",
    "CV_rfc.fit(X_train, y_train)\n",
    "\n",
    "CV_rfc.best_params_"
   ]
  },
  {
   "cell_type": "markdown",
   "id": "ce82b170",
   "metadata": {},
   "source": [
    "## Accuracy of the best RF found with grid search"
   ]
  },
  {
   "cell_type": "code",
   "execution_count": 342,
   "id": "34792df3",
   "metadata": {},
   "outputs": [
    {
     "name": "stdout",
     "output_type": "stream",
     "text": [
      "Accuracy: 0.5416666666666666\n"
     ]
    }
   ],
   "source": [
    "rfc_best = RandomForestClassifier(\n",
    "    criterion=CV_rfc.best_params_[\"criterion\"],\n",
    "    max_features=CV_rfc.best_params_[\"max_features\"],\n",
    "    n_estimators=CV_rfc.best_params_[\"n_estimators\"],\n",
    "    random_state=42,\n",
    "    n_jobs=-1\n",
    ")\n",
    "\n",
    "rfc_best.fit(X_train, y_train)\n",
    "y_pred = rfc_best.predict(X_test)\n",
    "accuracy = accuracy_score(y_test, y_pred)\n",
    "print('Accuracy:', accuracy)"
   ]
  },
  {
   "cell_type": "markdown",
   "id": "d22f87ab",
   "metadata": {},
   "source": [
    "### Plot confusion matrix for random forest"
   ]
  },
  {
   "cell_type": "code",
   "execution_count": 343,
   "id": "f114dcfd",
   "metadata": {},
   "outputs": [
    {
     "data": {
      "image/png": "[encoded data removed]",
      "text/plain": [
       "<Figure size 432x288 with 2 Axes>"
      ]
     },
     "metadata": {
      "needs_background": "light"
     },
     "output_type": "display_data"
    }
   ],
   "source": [
    "cm = confusion_matrix(y_test, y_pred, labels=rfc_best.classes_)\n",
    "disp = ConfusionMatrixDisplay(confusion_matrix=cm,\n",
    "                              display_labels=rfc_best.classes_)\n",
    "disp.plot()\n",
    "plt.show()"
   ]
  },
  {
   "cell_type": "markdown",
   "id": "73e0bd59",
   "metadata": {},
   "source": [
    "## Logistic Regression"
   ]
  },
  {
   "cell_type": "code",
   "execution_count": 344,
   "id": "c0c3dea3",
   "metadata": {},
   "outputs": [
    {
     "name": "stdout",
     "output_type": "stream",
     "text": [
      "Accuracy: 0.4166666666666667\n"
     ]
    }
   ],
   "source": [
    "# Fit logistic regression model\n",
    "model = LogisticRegression()\n",
    "model.fit(X_train, y_train)\n",
    "\n",
    "# Make predictions on the testing set\n",
    "y_pred = model.predict(X_test)\n",
    "\n",
    "# Calculate accuracy score\n",
    "accuracy = accuracy_score(y_test, y_pred)\n",
    "print('Accuracy:', accuracy)"
   ]
  },
  {
   "cell_type": "markdown",
   "id": "296b6a56",
   "metadata": {},
   "source": [
    "## SVM"
   ]
  },
  {
   "cell_type": "markdown",
   "id": "01351c5e",
   "metadata": {},
   "source": [
    "### linear kernel"
   ]
  },
  {
   "cell_type": "code",
   "execution_count": 345,
   "id": "6030aa91",
   "metadata": {},
   "outputs": [
    {
     "name": "stdout",
     "output_type": "stream",
     "text": [
      "Accuracy: 0.4166666666666667\n"
     ]
    }
   ],
   "source": [
    "# Fit SVM model\n",
    "model = SVC(kernel='linear')\n",
    "model.fit(X_train, y_train)\n",
    "\n",
    "# Make predictions on the testing set\n",
    "y_pred = model.predict(X_test)\n",
    "\n",
    "# Calculate accuracy score\n",
    "accuracy = accuracy_score(y_test, y_pred)\n",
    "print('Accuracy:', accuracy)"
   ]
  }
 ],
 "metadata": {
  "kernelspec": {
   "display_name": "rp",
   "language": "python",
   "name": "rp"
  },
  "language_info": {
   "codemirror_mode": {
    "name": "ipython",
    "version": 3
   },
   "file_extension": ".py",
   "mimetype": "text/x-python",
   "name": "python",
   "nbconvert_exporter": "python",
   "pygments_lexer": "ipython3",
   "version": "3.11.3"
  }
 },
 "nbformat": 4,
 "nbformat_minor": 5
}
