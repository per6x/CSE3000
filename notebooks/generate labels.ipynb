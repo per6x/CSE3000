{
 "cells": [
  {
   "cell_type": "code",
   "execution_count": 2,
   "id": "8a37192e",
   "metadata": {},
   "outputs": [],
   "source": [
    "import pandas as pd"
   ]
  },
  {
   "cell_type": "code",
   "execution_count": 45,
   "id": "f0faddb1",
   "metadata": {},
   "outputs": [],
   "source": [
    "meta = pd.read_csv(\"metadata.csv\", sep=\";\")"
   ]
  },
  {
   "cell_type": "code",
   "execution_count": 46,
   "id": "dad98df4",
   "metadata": {},
   "outputs": [],
   "source": [
    "df = meta[[\"Run\", \"Class\"]]"
   ]
  },
  {
   "cell_type": "code",
   "execution_count": 47,
   "id": "bc4ac73c",
   "metadata": {},
   "outputs": [
    {
     "data": {
      "text/plain": [
       "array(['Celiac', 'Non-Celiac', 'tCD-TG-', 'tCD-TG+', 'Healthy',\n",
       "       'Untreated CD'], dtype=object)"
      ]
     },
     "execution_count": 47,
     "metadata": {},
     "output_type": "execute_result"
    }
   ],
   "source": [
    "df[\"Class\"].unique()"
   ]
  },
  {
   "cell_type": "code",
   "execution_count": 50,
   "id": "5143fa12",
   "metadata": {},
   "outputs": [
    {
     "name": "stderr",
     "output_type": "stream",
     "text": [
      "/var/folders/t1/wk3fwzss61vb_rjtwmnz1y4w0000gn/T/ipykernel_54723/2706816858.py:1: SettingWithCopyWarning: \n",
      "A value is trying to be set on a copy of a slice from a DataFrame.\n",
      "Try using .loc[row_indexer,col_indexer] = value instead\n",
      "\n",
      "See the caveats in the documentation: https://pandas.pydata.org/pandas-docs/stable/user_guide/indexing.html#returning-a-view-versus-a-copy\n",
      "  df[\"Class\"] = df[\"Class\"].replace({\"Celiac\": 1,\"Non-Celiac\": 0,\"tCD-TG-\": 1,\"tCD-TG+\": 1,\"Healthy\": 0,\"Untreated CD\": 1})\n"
     ]
    }
   ],
   "source": [
    "df[\"Class\"] = df[\"Class\"].replace({\"Celiac\": 1,\"Non-Celiac\": 0,\"tCD-TG-\": 1,\"tCD-TG+\": 1,\"Healthy\": 0,\"Untreated CD\": 1})"
   ]
  },
  {
   "cell_type": "code",
   "execution_count": 53,
   "id": "2c265f4b",
   "metadata": {},
   "outputs": [],
   "source": [
    "df = df.rename(columns={\"Run\": \"Sample\", \"Class\": \"Label\"})"
   ]
  },
  {
   "cell_type": "code",
   "execution_count": 56,
   "id": "a47abea4",
   "metadata": {},
   "outputs": [],
   "source": [
    "df.to_csv(\"labels.csv\", sep=\";\", index=False)"
   ]
  }
 ],
 "metadata": {
  "kernelspec": {
   "display_name": "rp",
   "language": "python",
   "name": "rp"
  },
  "language_info": {
   "codemirror_mode": {
    "name": "ipython",
    "version": 3
   },
   "file_extension": ".py",
   "mimetype": "text/x-python",
   "name": "python",
   "nbconvert_exporter": "python",
   "pygments_lexer": "ipython3",
   "version": "3.11.3"
  }
 },
 "nbformat": 4,
 "nbformat_minor": 5
}
