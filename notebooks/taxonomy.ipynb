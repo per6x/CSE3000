{
 "cells": [
  {
   "cell_type": "code",
   "execution_count": 3,
   "id": "ba355d18",
   "metadata": {},
   "outputs": [],
   "source": [
    "import pandas as pd\n",
    "import numpy as np"
   ]
  },
  {
   "cell_type": "code",
   "execution_count": 11,
   "id": "96298a43",
   "metadata": {},
   "outputs": [
    {
     "data": {
      "text/plain": [
       "Index(['acc', 'rank', 'name', 'total_count', 'self_count'], dtype='object')"
      ]
     },
     "execution_count": 11,
     "metadata": {},
     "output_type": "execute_result"
    }
   ],
   "source": [
    "taxonomy = pd.read_csv(\"../taxonomy/taxonomy.csv\", sep=\";\")\n",
    "taxonomy = taxonomy.drop(['tax_id','ilevel','ileft', 'iright'], axis=1)\n",
    "taxonomy.columns"
   ]
  },
  {
   "cell_type": "markdown",
   "id": "273a7159",
   "metadata": {},
   "source": [
    "## Group by SRR"
   ]
  },
  {
   "cell_type": "markdown",
   "id": "49eefb97",
   "metadata": {},
   "source": [
    "### Retrieve accessions"
   ]
  },
  {
   "cell_type": "code",
   "execution_count": 5,
   "id": "fab62c38",
   "metadata": {
    "scrolled": true
   },
   "outputs": [],
   "source": [
    "accessions = taxonomy[\"acc\"].unique()"
   ]
  },
  {
   "cell_type": "markdown",
   "id": "571d580d",
   "metadata": {},
   "source": [
    "### Retrieve names for taxonomy ranks"
   ]
  },
  {
   "cell_type": "code",
   "execution_count": 6,
   "id": "c7c3b87f",
   "metadata": {},
   "outputs": [],
   "source": [
    "def get_all_unique_names_by_rank(taxonomy_rank: str):\n",
    "    return taxonomy[taxonomy[\"rank\"]==taxonomy_rank][\"name\"].unique()"
   ]
  },
  {
   "cell_type": "code",
   "execution_count": 7,
   "id": "3d41398b",
   "metadata": {},
   "outputs": [],
   "source": [
    "ranks = taxonomy[\"rank\"].unique()\n",
    "names = {\n",
    "\t\"subspecies\" : get_all_unique_names_by_rank(\"subspecies\"),\n",
    "\t\"nan\" : get_all_unique_names_by_rank(\"nan\"),\n",
    "\t\"order\" : get_all_unique_names_by_rank(\"order\"),\n",
    "\t\"infraclass\" : get_all_unique_names_by_rank(\"infraclass\"),\n",
    "\t\"genus\" : get_all_unique_names_by_rank(\"genus\"),\n",
    "\t\"species\" : get_all_unique_names_by_rank(\"species\"),\n",
    "\t\"tribe\" : get_all_unique_names_by_rank(\"tribe\"),\n",
    "\t\"family\" : get_all_unique_names_by_rank(\"family\"),\n",
    "\t\"superfamily\" : get_all_unique_names_by_rank(\"superfamily\"),\n",
    "\t\"parvorder\" : get_all_unique_names_by_rank(\"parvorder\"),\n",
    "\t\"superorder\" : get_all_unique_names_by_rank(\"superorder\"),\n",
    "\t\"subfamily\" : get_all_unique_names_by_rank(\"subfamily\"),\n",
    "\t\"superkingdom\" : get_all_unique_names_by_rank(\"superkingdom\"),\n",
    "\t\"subclass\" : get_all_unique_names_by_rank(\"subclass\"),\n",
    "\t\"class\" : get_all_unique_names_by_rank(\"class\"),\n",
    "\t\"infraorder\" : get_all_unique_names_by_rank(\"infraorder\"),\n",
    "\t\"superclass\" : get_all_unique_names_by_rank(\"superclass\"),\n",
    "\t\"suborder\" : get_all_unique_names_by_rank(\"suborder\"),\n",
    "\t\"subtribe\" : get_all_unique_names_by_rank(\"subtribe\"),\n",
    "\t\"subphylum\" : get_all_unique_names_by_rank(\"subphylum\"),\n",
    "\t\"subgenus\" : get_all_unique_names_by_rank(\"subgenus\"),\n",
    "\t\"cohort\" : get_all_unique_names_by_rank(\"cohort\"),\n",
    "\t\"subcohort\" : get_all_unique_names_by_rank(\"subcohort\"),\n",
    "\t\"species subgroup\" : get_all_unique_names_by_rank(\"species subgroup\"),\n",
    "\t\"species group\" : get_all_unique_names_by_rank(\"species group\"),\n",
    "\t\"varietas\" : get_all_unique_names_by_rank(\"varietas\"),\n",
    "\t\"phylum\" : get_all_unique_names_by_rank(\"phylum\"),\n",
    "\t\"kingdom\" : get_all_unique_names_by_rank(\"kingdom\"),\n",
    "\t\"subkingdom\" : get_all_unique_names_by_rank(\"subkingdom\")\n",
    "}"
   ]
  },
  {
   "cell_type": "markdown",
   "id": "113833b2",
   "metadata": {},
   "source": [
    "### Generate rank taxonomy abundance table per accessions"
   ]
  },
  {
   "cell_type": "code",
   "execution_count": 18,
   "id": "c2281f15",
   "metadata": {},
   "outputs": [],
   "source": [
    "def abundance_table_by_rank(rank):\n",
    "    result = pd.DataFrame(columns=names[str(rank)])\n",
    "    result.insert(0, \"Sample\", np.nan)\n",
    "    for acc in accessions:\n",
    "        tmp = taxonomy[(taxonomy[\"acc\"]==acc) & (taxonomy[\"rank\"]==rank)][[\"name\", \"total_count\"]].set_index(\"name\").T\n",
    "        tmp.insert(0, \"Sample\", str(acc))\n",
    "        print(tmp)\n",
    "        break\n",
    "        result = pd.concat([result, tmp])\n",
    "    result = result.fillna(0)\n",
    "    result = result.set_index(\"Sample\")\n",
    "#     return result"
   ]
  },
  {
   "cell_type": "code",
   "execution_count": 19,
   "id": "cbce8522",
   "metadata": {},
   "outputs": [
    {
     "name": "stdout",
     "output_type": "stream",
     "text": [
      "name              Sample  Homo sapiens  Pongo abelii  Aegilops tauschii   \n",
      "total_count  SRR15595321       9264410         42252                  2  \\\n",
      "\n",
      "name         Nomascus leucogenys  Gorilla gorilla  Pan troglodytes   \n",
      "total_count                 7798            42449            39049  \\\n",
      "\n",
      "name         Erythranthe guttata  Pan paniscus  \n",
      "total_count                    5         47672  \n"
     ]
    }
   ],
   "source": [
    "abundance_table_by_rank('species')"
   ]
  },
  {
   "cell_type": "code",
   "execution_count": 11,
   "id": "658a754f",
   "metadata": {},
   "outputs": [],
   "source": [
    "for rank in ranks:\n",
    "    tmp = abundance_table_by_rank(rank)\n",
    "    tmp.to_csv(f\"../taxonomy/{'_'.join(str(rank).split(' '))}_data.csv\", sep=\";\")"
   ]
  },
  {
   "cell_type": "code",
   "execution_count": null,
   "id": "67d957a8",
   "metadata": {},
   "outputs": [],
   "source": []
  }
 ],
 "metadata": {
  "kernelspec": {
   "display_name": "rp",
   "language": "python",
   "name": "rp"
  },
  "language_info": {
   "codemirror_mode": {
    "name": "ipython",
    "version": 3
   },
   "file_extension": ".py",
   "mimetype": "text/x-python",
   "name": "python",
   "nbconvert_exporter": "python",
   "pygments_lexer": "ipython3",
   "version": "3.11.3"
  }
 },
 "nbformat": 4,
 "nbformat_minor": 5
}
